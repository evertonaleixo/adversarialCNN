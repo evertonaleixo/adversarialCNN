{
 "cells": [
  {
   "cell_type": "code",
   "execution_count": 19,
   "metadata": {},
   "outputs": [],
   "source": [
    "import numpy as np\n",
    "from keras import backend as K\n",
    "from keras import losses\n",
    "import tensorflow as tf\n",
    "\n",
    "max_noise = 0.15\n",
    "step_size = 1.0/255.0"
   ]
  },
  {
   "cell_type": "code",
   "execution_count": 2,
   "metadata": {},
   "outputs": [],
   "source": [
    "x = np.array([2, -1, 3, -2, 2, 2, 1, -4, 5, 1])\n",
    "w = np.array([-1, -1, 1, -1, 1, -1, 1, 1, -1, 1])"
   ]
  },
  {
   "cell_type": "markdown",
   "metadata": {},
   "source": [
    "## Toy Example showing the phenomenal of fool a binary logistic  regression\n",
    "\n",
    "'p' is the probability of be class 1.\n",
    "If p > 0.5 it belongs to the class 1 otherwise not."
   ]
  },
  {
   "cell_type": "code",
   "execution_count": 3,
   "metadata": {},
   "outputs": [
    {
     "name": "stdout",
     "output_type": "stream",
     "text": [
      "0.04742587317756679\n"
     ]
    }
   ],
   "source": [
    "p = 1/(1+np.power(np.e, -np.dot(x, w)))\n",
    "print(p)"
   ]
  },
  {
   "cell_type": "markdown",
   "metadata": {},
   "source": [
    "#### Let's try to foll the classifier\n",
    "\n",
    "Doing the dot product again we see that suddenly the score becomes 2. This is not surprising: There are 10 dimensions and we’ve tweaked the input by 0.5 in every dimension in such a way that we gain 0.5 in each one, adding up to a total of 5 additional score, rising it from -3 to 2. Now when we look at probability of class 1 we get 1/(1+e^(-2)) = 0.88. That is, we tweaked the original x by a small amount and we improved the class 1 probability from 5% to 88%!"
   ]
  },
  {
   "cell_type": "code",
   "execution_count": 4,
   "metadata": {},
   "outputs": [],
   "source": [
    "# xad = x + 0.5w gives:\n",
    "xad = [1.5, -1.5, 3.5, -2.5, 2.5, 1.5, 1.5, -3.5, 4.5, 1.5]\n",
    "# xad = [1.1, -1.1, 3.1, -2.1, 2.1, 1.1, 1.1, -3.1, 4.1, 1.1]"
   ]
  },
  {
   "cell_type": "code",
   "execution_count": 5,
   "metadata": {},
   "outputs": [
    {
     "name": "stdout",
     "output_type": "stream",
     "text": [
      "0.8807970779778823\n"
     ]
    }
   ],
   "source": [
    "p = 1/(1+np.power(np.e, -np.dot(xad, w)))\n",
    "print(p)"
   ]
  },
  {
   "cell_type": "markdown",
   "metadata": {},
   "source": [
    "## Reproducing the  “Deep MNIST for Experts” tutorial"
   ]
  },
  {
   "cell_type": "code",
   "execution_count": 6,
   "metadata": {},
   "outputs": [],
   "source": [
    "%matplotlib inline\n",
    "import matplotlib.pyplot as plt\n",
    "from matplotlib.pyplot import figure\n"
   ]
  },
  {
   "cell_type": "code",
   "execution_count": 7,
   "metadata": {},
   "outputs": [],
   "source": [
    "def plot_figures(X_10_samples_2, X_10_noise):\n",
    "    figure(num=None, figsize=(16, 12), dpi=80, facecolor='w', edgecolor='k')\n",
    "    fig = plt.figure(figsize=(30,15))\n",
    "\n",
    "    idx_img = 0;\n",
    "    for i in range(1, 30, 3):\n",
    "        ax1 = fig.add_subplot(10, 3, i)\n",
    "        ax1.imshow(X_10_samples_2[idx_img])\n",
    "        ax2 = fig.add_subplot(10, 3, i+1)\n",
    "        ax2.imshow(X_10_noise[idx_img])\n",
    "        ax3 = fig.add_subplot(10, 3, i+2)\n",
    "        ax3.imshow( (X_10_samples_2[idx_img] + X_10_noise[idx_img]) )\n",
    "\n",
    "        idx_img = idx_img + 1"
   ]
  },
  {
   "cell_type": "code",
   "execution_count": 8,
   "metadata": {},
   "outputs": [],
   "source": [
    "mnist = tf.keras.datasets.mnist\n",
    "\n",
    "(x_train, y_train),(x_test, y_test) = mnist.load_data()\n",
    "x_train, x_test = x_train / 255.0, x_test / 255.0\n",
    "arange_ = np.arange(len(y_train))"
   ]
  },
  {
   "cell_type": "code",
   "execution_count": 9,
   "metadata": {},
   "outputs": [
    {
     "name": "stdout",
     "output_type": "stream",
     "text": [
      "Epoch 1/5\n",
      "60000/60000 [==============================] - 6s 93us/step - loss: 0.2198 - acc: 0.9346\n",
      "Epoch 2/5\n",
      "60000/60000 [==============================] - 5s 82us/step - loss: 0.0990 - acc: 0.9698\n",
      "Epoch 3/5\n",
      "60000/60000 [==============================] - 5s 79us/step - loss: 0.0684 - acc: 0.9786\n",
      "Epoch 4/5\n",
      "60000/60000 [==============================] - 5s 77us/step - loss: 0.0528 - acc: 0.9833\n",
      "Epoch 5/5\n",
      "60000/60000 [==============================] - 5s 79us/step - loss: 0.0418 - acc: 0.9862\n",
      "_________________________________________________________________\n",
      "Layer (type)                 Output Shape              Param #   \n",
      "=================================================================\n",
      "flatten (Flatten)            (None, 784)               0         \n",
      "_________________________________________________________________\n",
      "dense (Dense)                (None, 512)               401920    \n",
      "_________________________________________________________________\n",
      "dropout (Dropout)            (None, 512)               0         \n",
      "_________________________________________________________________\n",
      "dense_1 (Dense)              (None, 10)                5130      \n",
      "=================================================================\n",
      "Total params: 407,050\n",
      "Trainable params: 0\n",
      "Non-trainable params: 407,050\n",
      "_________________________________________________________________\n",
      "10000/10000 [==============================] - 0s 24us/step\n"
     ]
    },
    {
     "data": {
      "text/plain": [
       "[0.06789418366739992, 0.98]"
      ]
     },
     "execution_count": 9,
     "metadata": {},
     "output_type": "execute_result"
    }
   ],
   "source": [
    "# with tf.device('/cpu:0'):\n",
    "model = tf.keras.models.Sequential([\n",
    "  tf.keras.layers.Flatten(),\n",
    "  tf.keras.layers.Dense(512, activation=tf.nn.relu),\n",
    "  tf.keras.layers.Dropout(0.2),\n",
    "  tf.keras.layers.Dense(10, activation=tf.nn.softmax)\n",
    "])\n",
    "\n",
    "model.compile(optimizer='adam',\n",
    "              loss='categorical_crossentropy',\n",
    "              metrics=['accuracy'])\n",
    "y_aux = np.zeros( (len(y_train), 10) )\n",
    "y_aux[arange_, y_train] = 1\n",
    "y_train = y_aux\n",
    "model.fit(x_train, y_train, epochs=5)\n",
    "\n",
    "\n",
    "for i in range(len(model.layers)):\n",
    "    layer = model.layers[i]\n",
    "    layer.trainable = False\n",
    "\n",
    "model.compile(optimizer='adam',\n",
    "          loss='categorical_crossentropy',\n",
    "          metrics=['accuracy'])\n",
    "\n",
    "model.summary()\n",
    "\n",
    "dist_loss = K.variable(0.)\n",
    "fake_class = K.variable(0)\n",
    "K.set_session(tf.Session(graph=model.output.graph))\n",
    "init = K.tf.global_variables_initializer()\n",
    "K.get_session().run(init)\n",
    "\n",
    "arange_ = np.arange(len(y_test))\n",
    "y_aux = np.zeros( (len(y_test), 10) )\n",
    "y_aux[arange_, y_test] = 1\n",
    "y_test = y_aux\n",
    "\n",
    "model.evaluate(x_test, y_test)"
   ]
  },
  {
   "cell_type": "markdown",
   "metadata": {},
   "source": [
    "#### Selecting samples from the 2"
   ]
  },
  {
   "cell_type": "code",
   "execution_count": 20,
   "metadata": {
    "scrolled": true
   },
   "outputs": [
    {
     "name": "stdout",
     "output_type": "stream",
     "text": [
      "[5 0 4 ... 5 6 8]\n",
      "X_samples_2.shape (5958, 28, 28)\n",
      "Y_samples_2.shape (5958, 10)\n",
      "X_noises.shape (5958, 28, 28)\n",
      "Y_fakes.shape (5958, 10)\n"
     ]
    }
   ],
   "source": [
    "y_train_idx = np.argmax(y_train, axis=1)\n",
    "print(y_train_idx)\n",
    "X_samples_2 = np.copy(x_train[y_train_idx==2])\n",
    "X_samples_2_orig = np.copy(x_train[y_train_idx==2])\n",
    "X_noises = np.zeros((X_samples_2.shape[0], 28, 28))\n",
    "\n",
    "Y_samples_2 = y_train[np.argmax(y_train, axis=1)==2]\n",
    "Y_fakes = np.copy(Y_samples_2)\n",
    "Y_fakes[:, 2] = 0\n",
    "Y_fakes[:, 6] = 1\n",
    "\n",
    "print(\"X_samples_2.shape \"+ str(X_samples_2.shape))\n",
    "print(\"Y_samples_2.shape \"+str(Y_samples_2.shape))\n",
    "print(\"X_noises.shape \"+str(X_noises.shape))\n",
    "print(\"Y_fakes.shape \"+str(Y_fakes.shape))"
   ]
  },
  {
   "cell_type": "markdown",
   "metadata": {},
   "source": [
    "#### In the fisrt way to try fool the Neural Network I will follow this steps.\n",
    "* Get image samples of 2 and target it as 6\n",
    "* Apply the feedforward in CNN\n",
    "* Get the gradient and apply it on image\n",
    "* Get the difference of new image and original image as noise"
   ]
  },
  {
   "cell_type": "markdown",
   "metadata": {},
   "source": [
    "### Applying Ian Goodfellow method.  This method utiliza just the sign of gradient. And global pertubations."
   ]
  },
  {
   "cell_type": "code",
   "execution_count": 21,
   "metadata": {},
   "outputs": [
    {
     "name": "stdout",
     "output_type": "stream",
     "text": [
      "Tensor(\"dense_1/Softmax:0\", shape=(?, 10), dtype=float32)\n",
      "Tensor(\"gradients_2/flatten/Reshape_grad/Reshape:0\", shape=(?, 28, 28), dtype=float32)\n",
      "(?, 28, 28)\n",
      "(1, 10)\n"
     ]
    }
   ],
   "source": [
    "# Getting gradient\n",
    "input_img = model.input\n",
    "fake_class = K.zeros(shape=(1, 10))\n",
    "\n",
    "layer = model.layers[-1]\n",
    "print(layer.output)\n",
    "\n",
    "# distance Loss\n",
    "# np.random.seed(1)\n",
    "# for x in np.random.choice(model.layers[:-1], size = len(model.layers) - 1):\n",
    "#     x_var = x.output\n",
    "#     dist_loss = dist_loss + np.random.uniform(0,2) * K.sum(K.square(x_var)) / K.prod(K.cast(K.shape(x_var), 'float32'))\n",
    "    \n",
    "\n",
    "# adversarial loss\n",
    "adversarial_loss = losses.categorical_crossentropy(fake_class, layer.output)# - dist_loss\n",
    "\n",
    "grads = K.gradients(adversarial_loss, model.input)[0]\n",
    "print(grads)\n",
    "grads = grads / K.maximum(K.abs(K.max(grads)), K.abs(K.min(grads)))\n",
    "\n",
    "print(input_img.shape)\n",
    "print(fake_class.shape)\n",
    "grads_func = K.function(inputs=[input_img, fake_class], outputs=[grads])"
   ]
  },
  {
   "cell_type": "code",
   "execution_count": 23,
   "metadata": {
    "scrolled": true
   },
   "outputs": [
    {
     "name": "stdout",
     "output_type": "stream",
     "text": [
      "Iteration: 0\n",
      "img 1560  pred: 6  Confiance: 0.7086325\n",
      "img 2065  pred: 6  Confiance: 0.5061566\n",
      "img 2730  pred: 6  Confiance: 0.46758485\n",
      "img 3900  pred: 6  Confiance: 0.8139237\n",
      "img 3909  pred: 6  Confiance: 0.73357105\n",
      "img 4125  pred: 6  Confiance: 0.5027775\n",
      "img 4652  pred: 6  Confiance: 0.579142\n",
      "img 5595  pred: 6  Confiance: 0.53026825\n",
      "Iteration: 1\n",
      "Iteration: 2\n",
      "img 1654  pred: 6  Confiance: 0.45345715\n",
      "img 2741  pred: 6  Confiance: 0.4065541\n",
      "Iteration: 3\n",
      "Iteration: 4\n",
      "Iteration: 5\n",
      "Iteration: 6\n",
      "Iteration: 7\n",
      "Iteration: 8\n",
      "Iteration: 9\n",
      "Iteration: 10\n",
      "Iteration: 11\n",
      "Iteration: 12\n",
      "Iteration: 13\n",
      "Iteration: 14\n",
      "Iteration: 15\n",
      "Iteration: 16\n",
      "Iteration: 17\n",
      "Iteration: 18\n",
      "Iteration: 19\n",
      "Iteration: 20\n",
      "Iteration: 21\n",
      "Iteration: 22\n",
      "Iteration: 23\n",
      "Iteration: 24\n",
      "Iteration: 25\n",
      "Iteration: 26\n",
      "Iteration: 27\n",
      "Iteration: 28\n",
      "Iteration: 29\n",
      "Iteration: 30\n",
      "Iteration: 31\n",
      "Iteration: 32\n",
      "Iteration: 33\n",
      "Iteration: 34\n",
      "Iteration: 35\n",
      "Iteration: 36\n",
      "Iteration: 37\n",
      "Iteration: 38\n",
      "Iteration: 39\n",
      "Iteration: 40\n",
      "Iteration: 41\n",
      "Iteration: 42\n",
      "Iteration: 43\n",
      "Iteration: 44\n",
      "Iteration: 45\n",
      "Iteration: 46\n",
      "Iteration: 47\n",
      "Iteration: 48\n",
      "Iteration: 49\n"
     ]
    }
   ],
   "source": [
    "# fig = plt.figure(figsize=(30,15))\n",
    "unique_noise = X_noises[0]\n",
    "total_found = 0\n",
    "idx_found =[]\n",
    "\n",
    "for it in range(50):\n",
    "    print(\"Iteration: \"+ str(it))\n",
    "    for sample_idx in range(X_samples_2.shape[0]):\n",
    "        sample = np.reshape(X_samples_2_orig[sample_idx], (1,28,28))\n",
    "        predicted = model.predict(np.array(sample))\n",
    "        predicted_idx = np.argmax(predicted)\n",
    "\n",
    "        if predicted_idx != 2 or sample_idx in idx_found:\n",
    "            continue\n",
    "        if total_found >= 10:\n",
    "            break\n",
    "\n",
    "        for i in range(50):\n",
    "            fuzzy_img = (X_samples_2[sample_idx] + unique_noise)\n",
    "            fuzzy_img = np.clip(fuzzy_img, 0, 1)\n",
    "            fuzzy_img = np.reshape(fuzzy_img, (1, 28, 28))\n",
    "\n",
    "            predicted = model.predict(fuzzy_img)[0]\n",
    "            predicted_idx = np.argmax(predicted)\n",
    "            if predicted_idx == 6:\n",
    "                idx_found.append(sample_idx)\n",
    "                X_noises[total_found] = np.copy(unique_noise)\n",
    "                total_found = total_found + 1\n",
    "                if total_found < 10:\n",
    "                    unique_noise = X_noises[total_found]\n",
    "                    \n",
    "                print(\"img \"+ str(sample_idx) + \"  pred: \" + str(predicted_idx) + \"  Confiance: \" + str(predicted[6]) )\n",
    "                break\n",
    "\n",
    "            #Update noise\n",
    "            Y_fakes_hot_ones = np.zeros((1,10), dtype='int8')\n",
    "            Y_fakes_hot_ones[0, 6] = 1\n",
    "            grads = grads_func([fuzzy_img, Y_fakes_hot_ones])\n",
    "            grads = np.array(grads[0][0])\n",
    "            unique_noise = np.clip((unique_noise - (np.sign(grads)*step_size)), -max_noise, max_noise)\n",
    "        \n",
    "#         break\n",
    "#     break\n",
    "# print(sample, ' - predicted - ', predicted_idx, '  --  ', predicted[0, 2], '  --  ', predicted[0, 6], '  --  ', predicted[0, predicted_idx])\n",
    "# print('-----------------------------------------------------------------------------------------------\\n')"
   ]
  },
  {
   "cell_type": "code",
   "execution_count": 24,
   "metadata": {},
   "outputs": [
    {
     "name": "stdout",
     "output_type": "stream",
     "text": [
      "Images used: [1560, 2065, 2730, 3900, 3909, 4125, 4652, 5595, 1654, 2741]\n",
      "(10, 28, 28)\n",
      "(10, 28, 28)\n",
      "\n",
      "Predicting original images\n",
      "[2, 2, 2, 2, 2, 2, 2, 2, 2, 2]\n",
      "\n",
      "Predicting images with pertubation\n",
      "[6, 6, 6, 6, 6, 6, 6, 6, 6, 6]\n"
     ]
    },
    {
     "data": {
      "text/plain": [
       "<Figure size 1280x960 with 0 Axes>"
      ]
     },
     "metadata": {},
     "output_type": "display_data"
    },
    {
     "data": {
      "image/png": "[encoded data removed]",
      "text/plain": [
       "<Figure size 2160x1080 with 30 Axes>"
      ]
     },
     "metadata": {},
     "output_type": "display_data"
    }
   ],
   "source": [
    "print(\"Images used: \" + str(idx_found))\n",
    "imgs_used = X_samples_2[idx_found]\n",
    "noises_used = X_noises[:imgs_used.shape[0]]\n",
    "print(imgs_used.shape)\n",
    "print(noises_used.shape)\n",
    "\n",
    "print(\"\\nPredicting original images\")\n",
    "pred = [np.argmax(model.predict((imgs_used))[i]) for i in range(imgs_used.shape[0])]\n",
    "print(pred)\n",
    "\n",
    "print(\"\\nPredicting images with pertubation\")\n",
    "pred = [np.argmax(model.predict(np.clip((imgs_used + noises_used), 0, 1))[i]) for i in range(imgs_used.shape[0])]\n",
    "print(pred)\n",
    "\n",
    "\n",
    "plot_figures(imgs_used, noises_used)"
   ]
  },
  {
   "cell_type": "markdown",
   "metadata": {},
   "source": [
    "### Trying AG approach"
   ]
  },
  {
   "cell_type": "code",
   "execution_count": 99,
   "metadata": {},
   "outputs": [],
   "source": [
    "def create_population(n):\n",
    "    pop = []\n",
    "    for i in range(n):\n",
    "        individual = np.zeros(28*28) # np.array([np.random.normal()/5 for _ in range(28*28)])\n",
    "        individual = np.reshape(individual, (28,28))\n",
    "        for i in range(28):\n",
    "            for j in range(28):\n",
    "#                 if (i<4 or i>23) or (j<4 or j>23):\n",
    "                individual[i,j] = ((np.random.randint(256)/255.0)/10.0)\n",
    "                if np.random.rand()>0.5:\n",
    "                    individual[i,j] = -individual[i,j]\n",
    "        individual = np.reshape(individual, (28*28))\n",
    "        individual = np.clip(individual, -max_noise, max_noise)\n",
    "        pop.append(individual)\n",
    "        \n",
    "    return np.array(pop)"
   ]
  },
  {
   "cell_type": "code",
   "execution_count": 102,
   "metadata": {},
   "outputs": [],
   "source": [
    "def evaluate_population(pop):\n",
    "    ranking = []\n",
    "    pred = model.predict(X_samples_2_orig)\n",
    "    pred_idx = [ np.argmax(pred[i]) for i in range(X_samples_2_orig.shape[0]) ]\n",
    "    pred_idx = np.array(pred_idx)\n",
    "    \n",
    "    X_samples_2_eval = np.copy(X_samples_2_orig[pred_idx==2])\n",
    "    \n",
    "    for individual in pop:\n",
    "        X_noise = np.reshape(individual, (1, 28, 28))\n",
    "        fuzzy_imgs = (X_samples_2_eval + X_noise)\n",
    "        fuzzy_imgs = np.clip(fuzzy_imgs, 0, 1)\n",
    "\n",
    "        pred = model.predict(fuzzy_imgs)\n",
    "        pred_idx = [ np.argmax(pred[i]) for i in range(fuzzy_imgs.shape[0]) ]\n",
    "        pred_idx = np.array(pred_idx)\n",
    "        value = np.sum(pred, axis=0)[6]\n",
    "        value = value + (np.sum(pred_idx==6)*100)\n",
    "        ranking.append(value)\n",
    "        \n",
    "    return ranking"
   ]
  },
  {
   "cell_type": "code",
   "execution_count": 103,
   "metadata": {},
   "outputs": [],
   "source": [
    "def mutation(individual, probability):\n",
    "    individual = np.reshape(individual, (28,28))\n",
    "    for i in range(28):\n",
    "        for j in range(28):\n",
    "#             if (i<4 or i>23) or (j<4 or j>23):\n",
    "            if np.random.rand() < probability:\n",
    "                individual[i, j] = individual[i, j] + ((np.random.randint(256)/255.0)/10.0) # np.random.normal()/10\n",
    "\n",
    "    individual = np.reshape(individual, (28*28))\n",
    "    individual = np.clip(individual, -max_noise, max_noise)\n",
    "    return np.array(individual)\n",
    "\n",
    "def crossover(ind1 , ind2):\n",
    "    position = np.random.randint(len(ind1))\n",
    "    new_individual1 = np.concatenate((ind1[:position], ind2[position:]))\n",
    "    new_individual2 = np.concatenate((ind2[:position], ind1[position:]))\n",
    "    return np.array(new_individual1), np.array(new_individual2)"
   ]
  },
  {
   "cell_type": "code",
   "execution_count": 105,
   "metadata": {
    "scrolled": true
   },
   "outputs": [
    {
     "name": "stdout",
     "output_type": "stream",
     "text": [
      "0  - best value:  310.88908863067627\n",
      "[0, 0, 0, 0, 0, 0, 0, 0, 0, 0, 0, 0, 0, 0, 0, 0, 0, 0, 0, 0, 0, 0, 0, 0, 0, 0, 0, 0, 0, 0, 0, 0, 0, 0, 0, 0, 0, 0, 0, 0, 0, 0, 0, 0, 0, 0, 0, 0, 0, 0, 0, 0, 0, 0, 0, 0, 0, 0, 0, 0, 0, 0, 0, 0, 0, 0, 0, 0, 0, 0, 0, 0, 0, 0, 0, 0, 0, 0, 0, 0, 0, 0, 0, 0, 0, 0, 0, 0, 0, 0, 0, 0, 0, 0, 0, 0, 0, 0, 0, 0]\n",
      "\n",
      "50  - best value:  58193.42236328125\n",
      "[0, 0, 0, 0, 0, 0, 0, 0, 0, 0, 0, 0, 0, 0, 0, 0, 0, 0, 0, 0, 0, 0, 0, 0, 0, 0, 0, 0, 0, 0, 0, 0, 0, 0, 0, 0, 0, 0, 0, 0, 0, 0, 0, 0, 0, 0, 0, 0, 0, 0, 0, 0, 0, 0, 0, 0, 0, 0, 0, 0, 0, 0, 0, 0, 0, 0, 0, 0, 0, 0, 0, 0, 0, 0, 0, 0, 0, 0, 0, 0, 0, 0, 0, 0, 0, 0, 0, 0, 0, 0, 0, 0, 0, 0, 0, 0, 0, 0, 0, 0, 1, 1, 1, 1, 1, 1, 1, 1, 1, 1, 1, 1, 1, 1, 1, 1, 1, 1, 1, 1, 1, 1, 1, 1, 1, 1, 1, 1, 1, 1, 1, 1, 1, 1, 1, 1, 1, 1, 1, 1, 1, 1, 1, 1, 1, 1, 1, 1, 1, 1, 1, 1, 1, 1, 1, 1, 1, 1, 1, 1, 1, 1, 1, 1, 1, 1, 1, 1, 1, 1, 1, 1, 1, 1, 1, 1, 1, 1, 1, 1, 1, 1, 1, 1, 1, 1, 1, 1, 1, 1, 1, 1, 1, 1, 1, 1, 1, 1, 1, 1]\n",
      "\n",
      "100  - best value:  76160.11932373047\n",
      "[0, 0, 0, 0, 0, 0, 0, 0, 0, 0, 0, 0, 0, 0, 0, 0, 0, 0, 0, 0, 0, 0, 0, 0, 0, 0, 0, 0, 0, 0, 0, 0, 0, 0, 0, 0, 0, 0, 0, 0, 0, 0, 0, 0, 0, 0, 0, 0, 0, 0, 0, 0, 0, 0, 0, 0, 0, 0, 0, 0, 0, 0, 0, 0, 0, 0, 0, 0, 0, 0, 0, 0, 0, 0, 0, 0, 0, 0, 0, 0, 0, 0, 0, 0, 0, 0, 0, 0, 0, 0, 0, 0, 0, 0, 0, 0, 0, 0, 0, 0, 1, 1, 1, 1, 1, 1, 1, 1, 1, 1, 1, 1, 1, 1, 1, 1, 1, 1, 1, 1, 1, 1, 1, 1, 1, 1, 1, 1, 1, 1, 1, 1, 1, 1, 1, 1, 1, 1, 1, 1, 1, 1, 1, 1, 1, 1, 1, 1, 1, 1, 1, 1, 1, 1, 1, 1, 1, 1, 1, 1, 1, 1, 1, 1, 1, 1, 1, 1, 1, 1, 1, 1, 1, 1, 1, 1, 1, 1, 1, 1, 1, 1, 1, 1, 1, 1, 1, 1, 1, 1, 1, 1, 1, 1, 1, 1, 1, 1, 1, 1, 1, 1, 1, 1, 1, 1, 1, 1, 1, 1, 1, 1, 1, 1, 1, 1, 1, 1, 1, 1, 1, 1, 1, 1, 1, 1, 1, 1, 1, 1, 1, 1, 1, 1, 1, 1, 1, 1, 1, 1, 1, 1, 1, 1, 1, 1, 1, 1, 1, 1, 1, 1, 1, 1, 1, 1, 1, 1, 1, 1, 1, 1, 1, 1, 1, 1, 1, 1, 1, 1, 1, 1, 1, 1, 1, 1, 1, 1, 1, 1, 1, 1, 1, 1, 1, 1, 1, 1, 1, 1, 1, 1, 1, 1, 1, 1, 1, 1, 1, 1]\n",
      "\n"
     ]
    },
    {
     "ename": "KeyboardInterrupt",
     "evalue": "",
     "output_type": "error",
     "traceback": [
      "\u001b[0;31m---------------------------------------------------------------------------\u001b[0m",
      "\u001b[0;31mKeyboardInterrupt\u001b[0m                         Traceback (most recent call last)",
      "\u001b[0;32m<ipython-input-105-579133fcf76c>\u001b[0m in \u001b[0;36m<module>\u001b[0;34m()\u001b[0m\n\u001b[1;32m     14\u001b[0m \u001b[0;34m\u001b[0m\u001b[0m\n\u001b[1;32m     15\u001b[0m \u001b[0;32mfor\u001b[0m \u001b[0mepoch\u001b[0m \u001b[0;32min\u001b[0m \u001b[0mrange\u001b[0m\u001b[0;34m(\u001b[0m\u001b[0mnum_epoch\u001b[0m\u001b[0;34m)\u001b[0m\u001b[0;34m:\u001b[0m\u001b[0;34m\u001b[0m\u001b[0m\n\u001b[0;32m---> 16\u001b[0;31m     \u001b[0mranking\u001b[0m \u001b[0;34m=\u001b[0m \u001b[0mnp\u001b[0m\u001b[0;34m.\u001b[0m\u001b[0marray\u001b[0m\u001b[0;34m(\u001b[0m\u001b[0mevaluate_population\u001b[0m\u001b[0;34m(\u001b[0m\u001b[0mpop\u001b[0m\u001b[0;34m)\u001b[0m\u001b[0;34m)\u001b[0m\u001b[0;34m\u001b[0m\u001b[0m\n\u001b[0m\u001b[1;32m     17\u001b[0m     \u001b[0mordered_idx\u001b[0m \u001b[0;34m=\u001b[0m \u001b[0mranking\u001b[0m\u001b[0;34m.\u001b[0m\u001b[0margsort\u001b[0m\u001b[0;34m(\u001b[0m\u001b[0;34m)\u001b[0m\u001b[0;34m\u001b[0m\u001b[0m\n\u001b[1;32m     18\u001b[0m     \u001b[0mpop_ordered\u001b[0m \u001b[0;34m=\u001b[0m \u001b[0mpop\u001b[0m\u001b[0;34m[\u001b[0m\u001b[0mordered_idx\u001b[0m\u001b[0;34m]\u001b[0m\u001b[0;34m\u001b[0m\u001b[0m\n",
      "\u001b[0;32m<ipython-input-102-8996108cdc18>\u001b[0m in \u001b[0;36mevaluate_population\u001b[0;34m(pop)\u001b[0m\n\u001b[1;32m     12\u001b[0m         \u001b[0mfuzzy_imgs\u001b[0m \u001b[0;34m=\u001b[0m \u001b[0mnp\u001b[0m\u001b[0;34m.\u001b[0m\u001b[0mclip\u001b[0m\u001b[0;34m(\u001b[0m\u001b[0mfuzzy_imgs\u001b[0m\u001b[0;34m,\u001b[0m \u001b[0;36m0\u001b[0m\u001b[0;34m,\u001b[0m \u001b[0;36m1\u001b[0m\u001b[0;34m)\u001b[0m\u001b[0;34m\u001b[0m\u001b[0m\n\u001b[1;32m     13\u001b[0m \u001b[0;34m\u001b[0m\u001b[0m\n\u001b[0;32m---> 14\u001b[0;31m         \u001b[0mpred\u001b[0m \u001b[0;34m=\u001b[0m \u001b[0mmodel\u001b[0m\u001b[0;34m.\u001b[0m\u001b[0mpredict\u001b[0m\u001b[0;34m(\u001b[0m\u001b[0mfuzzy_imgs\u001b[0m\u001b[0;34m)\u001b[0m\u001b[0;34m\u001b[0m\u001b[0m\n\u001b[0m\u001b[1;32m     15\u001b[0m         \u001b[0mpred_idx\u001b[0m \u001b[0;34m=\u001b[0m \u001b[0;34m[\u001b[0m \u001b[0mnp\u001b[0m\u001b[0;34m.\u001b[0m\u001b[0margmax\u001b[0m\u001b[0;34m(\u001b[0m\u001b[0mpred\u001b[0m\u001b[0;34m[\u001b[0m\u001b[0mi\u001b[0m\u001b[0;34m]\u001b[0m\u001b[0;34m)\u001b[0m \u001b[0;32mfor\u001b[0m \u001b[0mi\u001b[0m \u001b[0;32min\u001b[0m \u001b[0mrange\u001b[0m\u001b[0;34m(\u001b[0m\u001b[0mfuzzy_imgs\u001b[0m\u001b[0;34m.\u001b[0m\u001b[0mshape\u001b[0m\u001b[0;34m[\u001b[0m\u001b[0;36m0\u001b[0m\u001b[0;34m]\u001b[0m\u001b[0;34m)\u001b[0m \u001b[0;34m]\u001b[0m\u001b[0;34m\u001b[0m\u001b[0m\n\u001b[1;32m     16\u001b[0m         \u001b[0mpred_idx\u001b[0m \u001b[0;34m=\u001b[0m \u001b[0mnp\u001b[0m\u001b[0;34m.\u001b[0m\u001b[0marray\u001b[0m\u001b[0;34m(\u001b[0m\u001b[0mpred_idx\u001b[0m\u001b[0;34m)\u001b[0m\u001b[0;34m\u001b[0m\u001b[0m\n",
      "\u001b[0;32m~/anaconda3/envs/play-conda/lib/python3.6/site-packages/tensorflow/python/keras/engine/training.py\u001b[0m in \u001b[0;36mpredict\u001b[0;34m(self, x, batch_size, verbose, steps)\u001b[0m\n\u001b[1;32m   1476\u001b[0m     \u001b[0;32melse\u001b[0m\u001b[0;34m:\u001b[0m\u001b[0;34m\u001b[0m\u001b[0m\n\u001b[1;32m   1477\u001b[0m       return training_arrays.predict_loop(\n\u001b[0;32m-> 1478\u001b[0;31m           self, x, batch_size=batch_size, verbose=verbose, steps=steps)\n\u001b[0m\u001b[1;32m   1479\u001b[0m \u001b[0;34m\u001b[0m\u001b[0m\n\u001b[1;32m   1480\u001b[0m   \u001b[0;32mdef\u001b[0m \u001b[0mtrain_on_batch\u001b[0m\u001b[0;34m(\u001b[0m\u001b[0mself\u001b[0m\u001b[0;34m,\u001b[0m \u001b[0mx\u001b[0m\u001b[0;34m,\u001b[0m \u001b[0my\u001b[0m\u001b[0;34m=\u001b[0m\u001b[0;32mNone\u001b[0m\u001b[0;34m,\u001b[0m \u001b[0msample_weight\u001b[0m\u001b[0;34m=\u001b[0m\u001b[0;32mNone\u001b[0m\u001b[0;34m,\u001b[0m \u001b[0mclass_weight\u001b[0m\u001b[0;34m=\u001b[0m\u001b[0;32mNone\u001b[0m\u001b[0;34m)\u001b[0m\u001b[0;34m:\u001b[0m\u001b[0;34m\u001b[0m\u001b[0m\n",
      "\u001b[0;32m~/anaconda3/envs/play-conda/lib/python3.6/site-packages/tensorflow/python/keras/engine/training_arrays.py\u001b[0m in \u001b[0;36mpredict_loop\u001b[0;34m(model, inputs, batch_size, verbose, steps)\u001b[0m\n\u001b[1;32m    355\u001b[0m       \u001b[0;32mif\u001b[0m \u001b[0mins\u001b[0m \u001b[0;32mand\u001b[0m \u001b[0misinstance\u001b[0m\u001b[0;34m(\u001b[0m\u001b[0mins\u001b[0m\u001b[0;34m[\u001b[0m\u001b[0;34m-\u001b[0m\u001b[0;36m1\u001b[0m\u001b[0;34m]\u001b[0m\u001b[0;34m,\u001b[0m \u001b[0mint\u001b[0m\u001b[0;34m)\u001b[0m\u001b[0;34m:\u001b[0m\u001b[0;34m\u001b[0m\u001b[0m\n\u001b[1;32m    356\u001b[0m         \u001b[0;31m# Do not slice the training phase flag.\u001b[0m\u001b[0;34m\u001b[0m\u001b[0;34m\u001b[0m\u001b[0m\n\u001b[0;32m--> 357\u001b[0;31m         \u001b[0mins_batch\u001b[0m \u001b[0;34m=\u001b[0m \u001b[0mslice_arrays\u001b[0m\u001b[0;34m(\u001b[0m\u001b[0mins\u001b[0m\u001b[0;34m[\u001b[0m\u001b[0;34m:\u001b[0m\u001b[0;34m-\u001b[0m\u001b[0;36m1\u001b[0m\u001b[0;34m]\u001b[0m\u001b[0;34m,\u001b[0m \u001b[0mbatch_ids\u001b[0m\u001b[0;34m)\u001b[0m \u001b[0;34m+\u001b[0m \u001b[0;34m[\u001b[0m\u001b[0mins\u001b[0m\u001b[0;34m[\u001b[0m\u001b[0;34m-\u001b[0m\u001b[0;36m1\u001b[0m\u001b[0;34m]\u001b[0m\u001b[0;34m]\u001b[0m\u001b[0;34m\u001b[0m\u001b[0m\n\u001b[0m\u001b[1;32m    358\u001b[0m       \u001b[0;32melse\u001b[0m\u001b[0;34m:\u001b[0m\u001b[0;34m\u001b[0m\u001b[0m\n\u001b[1;32m    359\u001b[0m         \u001b[0mins_batch\u001b[0m \u001b[0;34m=\u001b[0m \u001b[0mslice_arrays\u001b[0m\u001b[0;34m(\u001b[0m\u001b[0mins\u001b[0m\u001b[0;34m,\u001b[0m \u001b[0mbatch_ids\u001b[0m\u001b[0;34m)\u001b[0m\u001b[0;34m\u001b[0m\u001b[0m\n",
      "\u001b[0;32m~/anaconda3/envs/play-conda/lib/python3.6/site-packages/tensorflow/python/keras/utils/generic_utils.py\u001b[0m in \u001b[0;36mslice_arrays\u001b[0;34m(arrays, start, stop)\u001b[0m\n\u001b[1;32m    503\u001b[0m       \u001b[0;32mif\u001b[0m \u001b[0mhasattr\u001b[0m\u001b[0;34m(\u001b[0m\u001b[0mstart\u001b[0m\u001b[0;34m,\u001b[0m \u001b[0;34m'shape'\u001b[0m\u001b[0;34m)\u001b[0m\u001b[0;34m:\u001b[0m\u001b[0;34m\u001b[0m\u001b[0m\n\u001b[1;32m    504\u001b[0m         \u001b[0mstart\u001b[0m \u001b[0;34m=\u001b[0m \u001b[0mstart\u001b[0m\u001b[0;34m.\u001b[0m\u001b[0mtolist\u001b[0m\u001b[0;34m(\u001b[0m\u001b[0;34m)\u001b[0m\u001b[0;34m\u001b[0m\u001b[0m\n\u001b[0;32m--> 505\u001b[0;31m       \u001b[0;32mreturn\u001b[0m \u001b[0;34m[\u001b[0m\u001b[0;32mNone\u001b[0m \u001b[0;32mif\u001b[0m \u001b[0mx\u001b[0m \u001b[0;32mis\u001b[0m \u001b[0;32mNone\u001b[0m \u001b[0;32melse\u001b[0m \u001b[0mx\u001b[0m\u001b[0;34m[\u001b[0m\u001b[0mstart\u001b[0m\u001b[0;34m]\u001b[0m \u001b[0;32mfor\u001b[0m \u001b[0mx\u001b[0m \u001b[0;32min\u001b[0m \u001b[0marrays\u001b[0m\u001b[0;34m]\u001b[0m\u001b[0;34m\u001b[0m\u001b[0m\n\u001b[0m\u001b[1;32m    506\u001b[0m     \u001b[0;32melse\u001b[0m\u001b[0;34m:\u001b[0m\u001b[0;34m\u001b[0m\u001b[0m\n\u001b[1;32m    507\u001b[0m       \u001b[0;32mreturn\u001b[0m \u001b[0;34m[\u001b[0m\u001b[0;32mNone\u001b[0m \u001b[0;32mif\u001b[0m \u001b[0mx\u001b[0m \u001b[0;32mis\u001b[0m \u001b[0;32mNone\u001b[0m \u001b[0;32melse\u001b[0m \u001b[0mx\u001b[0m\u001b[0;34m[\u001b[0m\u001b[0mstart\u001b[0m\u001b[0;34m:\u001b[0m\u001b[0mstop\u001b[0m\u001b[0;34m]\u001b[0m \u001b[0;32mfor\u001b[0m \u001b[0mx\u001b[0m \u001b[0;32min\u001b[0m \u001b[0marrays\u001b[0m\u001b[0;34m]\u001b[0m\u001b[0;34m\u001b[0m\u001b[0m\n",
      "\u001b[0;32m~/anaconda3/envs/play-conda/lib/python3.6/site-packages/tensorflow/python/keras/utils/generic_utils.py\u001b[0m in \u001b[0;36m<listcomp>\u001b[0;34m(.0)\u001b[0m\n\u001b[1;32m    503\u001b[0m       \u001b[0;32mif\u001b[0m \u001b[0mhasattr\u001b[0m\u001b[0;34m(\u001b[0m\u001b[0mstart\u001b[0m\u001b[0;34m,\u001b[0m \u001b[0;34m'shape'\u001b[0m\u001b[0;34m)\u001b[0m\u001b[0;34m:\u001b[0m\u001b[0;34m\u001b[0m\u001b[0m\n\u001b[1;32m    504\u001b[0m         \u001b[0mstart\u001b[0m \u001b[0;34m=\u001b[0m \u001b[0mstart\u001b[0m\u001b[0;34m.\u001b[0m\u001b[0mtolist\u001b[0m\u001b[0;34m(\u001b[0m\u001b[0;34m)\u001b[0m\u001b[0;34m\u001b[0m\u001b[0m\n\u001b[0;32m--> 505\u001b[0;31m       \u001b[0;32mreturn\u001b[0m \u001b[0;34m[\u001b[0m\u001b[0;32mNone\u001b[0m \u001b[0;32mif\u001b[0m \u001b[0mx\u001b[0m \u001b[0;32mis\u001b[0m \u001b[0;32mNone\u001b[0m \u001b[0;32melse\u001b[0m \u001b[0mx\u001b[0m\u001b[0;34m[\u001b[0m\u001b[0mstart\u001b[0m\u001b[0;34m]\u001b[0m \u001b[0;32mfor\u001b[0m \u001b[0mx\u001b[0m \u001b[0;32min\u001b[0m \u001b[0marrays\u001b[0m\u001b[0;34m]\u001b[0m\u001b[0;34m\u001b[0m\u001b[0m\n\u001b[0m\u001b[1;32m    506\u001b[0m     \u001b[0;32melse\u001b[0m\u001b[0;34m:\u001b[0m\u001b[0;34m\u001b[0m\u001b[0m\n\u001b[1;32m    507\u001b[0m       \u001b[0;32mreturn\u001b[0m \u001b[0;34m[\u001b[0m\u001b[0;32mNone\u001b[0m \u001b[0;32mif\u001b[0m \u001b[0mx\u001b[0m \u001b[0;32mis\u001b[0m \u001b[0;32mNone\u001b[0m \u001b[0;32melse\u001b[0m \u001b[0mx\u001b[0m\u001b[0;34m[\u001b[0m\u001b[0mstart\u001b[0m\u001b[0;34m:\u001b[0m\u001b[0mstop\u001b[0m\u001b[0;34m]\u001b[0m \u001b[0;32mfor\u001b[0m \u001b[0mx\u001b[0m \u001b[0;32min\u001b[0m \u001b[0marrays\u001b[0m\u001b[0;34m]\u001b[0m\u001b[0;34m\u001b[0m\u001b[0m\n",
      "\u001b[0;31mKeyboardInterrupt\u001b[0m: "
     ]
    }
   ],
   "source": [
    "num_epoch = 10000\n",
    "pop_size = 1000\n",
    "best_inds = 100\n",
    "\n",
    "pop = create_population(pop_size)\n",
    "best_val = []\n",
    "best_number_of_six = []\n",
    "\n",
    "pred = model.predict(X_samples_2_orig)\n",
    "pred_idx = [ np.argmax(pred[i]) for i in range(X_samples_2_orig.shape[0]) ]\n",
    "pred_idx = np.array(pred_idx)\n",
    "\n",
    "X_samples_2_GA = np.copy(X_samples_2_orig[pred_idx==2])\n",
    "\n",
    "for epoch in range(num_epoch):\n",
    "    ranking = np.array(evaluate_population(pop))\n",
    "    ordered_idx = ranking.argsort()\n",
    "    pop_ordered = pop[ordered_idx]\n",
    "    top_inds = np.array(pop_ordered[-best_inds:])\n",
    "    other_ind = np.array(pop[ordered_idx][:-best_inds])\n",
    "    best_val.append(ranking[ordered_idx][-1])\n",
    "    \n",
    "    new_pop = []\n",
    "    for _ in range(int(pop_size/4)):\n",
    "        ind1 = top_inds[np.random.randint(len(top_inds))]\n",
    "        ind2 = top_inds[np.random.randint(len(top_inds))]\n",
    "        new_ind1, new_ind2 = crossover(ind1, ind2)\n",
    "        new_pop.append(new_ind1)\n",
    "        new_pop.append(new_ind2)\n",
    "    \n",
    "    pop_with_mutation = []\n",
    "    for i in range(len(new_pop)):\n",
    "        pop_with_mutation.append(mutation(new_pop[i], probability=0.05))\n",
    "\n",
    "    pop_with_mutation = np.concatenate((create_population(pop_size - best_inds - len(pop_with_mutation)), pop_with_mutation))\n",
    "    pop = np.concatenate((top_inds, pop_with_mutation))\n",
    "    if (epoch % 50)==0:\n",
    "        for top in top_inds:\n",
    "            top_noise = np.reshape(top, (1, 28, 28))\n",
    "            fuzzy_elements = (X_samples_2_GA + top_noise)\n",
    "            fuzzy_elements = np.clip(fuzzy_elements, 0, 1)\n",
    "\n",
    "            pred = model.predict(fuzzy_elements)\n",
    "            pred = np.array([np.argmax(pred[i]) for i in range(10)])\n",
    "            value = np.sum(pred==6)\n",
    "            best_number_of_six.append(value)\n",
    "        print(epoch, ' - best value: ', best_val[len(best_val) - 1])\n",
    "        print(best_number_of_six)\n",
    "        print()\n",
    "        \n",
    "    if np.max(np.array(best_number_of_six)) >= 10:\n",
    "        break\n",
    "    \n",
    "\n",
    "ranking = np.array(evaluate_population(pop))\n",
    "ordered_idx = ranking.argsort()\n",
    "top20 = np.array(pop[ordered_idx][-5:])\n",
    "\n",
    "print(top20)\n",
    "print(ranking)\n",
    "print(ranking[ordered_idx][-5])\n",
    "print(best_val)"
   ]
  },
  {
   "cell_type": "code",
   "execution_count": null,
   "metadata": {},
   "outputs": [],
   "source": [
    "pred = model.predict(X_samples_2_orig)\n",
    "pred_idx = [ np.argmax(pred[i]) for i in range(X_samples_2_orig.shape[0]) ]\n",
    "pred_idx = np.array(pred_idx)\n",
    "\n",
    "X_samples_2_eval = np.copy(X_samples_2_orig[pred_idx==2])\n",
    "    \n",
    "individual = p[0]\n",
    "\n",
    "X_noise = np.reshape(individual, (1, 28, 28))\n",
    "fuzzy_imgs = (X_samples_2_eval + X_noise)\n",
    "fuzzy_imgs = np.clip(fuzzy_imgs, 0, 1)\n",
    "\n",
    "pred = model.predict(fuzzy_imgs)\n",
    "pred_idx = [ np.argmax(pred[i]) for i in range(fuzzy_imgs.shape[0]) ]\n",
    "pred_idx = np.array(pred_idx)\n",
    "\n",
    "imgs_used = X_samples_2_eval[np.where(pred_idx==6)[0]]\n",
    "imgs_fuzzy = imgs_used + X_noise\n",
    "imgs_fuzzy = np.clip(imgs_fuzzy, 0, 1)\n",
    "\n",
    "print(\"Images used: \" + str(np.where(pred_idx==6)[0]))\n",
    "\n",
    "print(\"\\nPredicting original images\")\n",
    "pred = [np.argmax(model.predict((imgs_used))[i]) for i in range(imgs_used.shape[0])]\n",
    "print(pred)\n",
    "\n",
    "print(\"\\nPredicting images with pertubation\")\n",
    "pred = [np.argmax(model.predict(imgs_fuzzy)[i]) for i in range(imgs_used.shape[0])]\n",
    "print(pred)\n",
    "\n",
    "plot_figures(imgs_used, noises_used)"
   ]
  },
  {
   "cell_type": "markdown",
   "metadata": {},
   "source": [
    "## GAN GENARATOR"
   ]
  },
  {
   "cell_type": "code",
   "execution_count": null,
   "metadata": {},
   "outputs": [],
   "source": [
    "model_gan = tf.keras.models.Sequential([\n",
    "  tf.keras.layers.Flatten(),\n",
    "  tf.keras.layers.Dense(8, activation=tf.nn.sigmoid),\n",
    "  tf.keras.layers.Dense(16, activation=tf.nn.relu),\n",
    "  tf.keras.layers.Dropout(0.2),\n",
    "  tf.keras.layers.Dense(64, activation=tf.nn.relu),\n",
    "  tf.keras.layers.Dense(128, activation=tf.nn.sigmoid),\n",
    "  tf.keras.layers.Dense(256, activation=tf.nn.relu),\n",
    "  tf.keras.layers.Dropout(0.2),\n",
    "  tf.keras.layers.Dense(512, activation=tf.nn.relu),\n",
    "  tf.keras.layers.Dense(512, activation=tf.nn.sigmoid),\n",
    "  tf.keras.layers.Dense(512, activation=tf.nn.sigmoid),\n",
    "  tf.keras.layers.Dense(512, activation=tf.nn.relu),\n",
    "  tf.keras.layers.Dropout(0.2),\n",
    "  tf.keras.layers.Dense(28*28, activation=tf.nn.sigmoid),\n",
    "  tf.keras.layers.Dense(28*28, activation=tf.keras.activations.relu(alpha=0.33, max_value=0.25, threshold=-0.25)),\n",
    "])\n",
    "\n",
    "compose_model = tf.keras.models.Sequential([\n",
    "    model_gan,\n",
    "    model\n",
    "])\n",
    "\n",
    "model_gan.compile(optimizer='adam',\n",
    "              loss='categorical_crossentropy',\n",
    "              metrics=['accuracy'])\n",
    "\n",
    "compose_model.compile(optimizer='adam',\n",
    "              loss='categorical_crossentropy',\n",
    "              metrics=['accuracy'])\n",
    "\n",
    "compose_model.fit(X_samples_2, Y_fakes, epochs=80)"
   ]
  },
  {
   "cell_type": "code",
   "execution_count": null,
   "metadata": {},
   "outputs": [],
   "source": [
    "print( np.argmax(compose_model.predict(X_samples_2)[0]) )\n",
    "print( np.argmax(model.predict(X_samples_2)[0]) )\n",
    "\n",
    "noises = np.reshape(model_gan.predict(X_samples_2), (X_samples_2.shape[0], 28, 28)) - X_samples_2\n",
    "print(noises.shape)\n",
    "\n",
    "X_10_noise = noises\n",
    "\n",
    "# ---------- Elimining pertubation on center image ------------------\n",
    "# for e in range(X_samples_2.shape[0]):\n",
    "#     for i in range(28):\n",
    "#         for j in range(28):\n",
    "#             if i >2 and i<25 and j>2 and j<23:\n",
    "#                 X_10_noise[e, i, j] = 0\n",
    "#                 continue\n",
    "# ---------- Elimining pertubation on center image ------------------\n",
    "\n",
    "\n",
    "new_elements = (X_10_samples_2 + X_10_noise)\n",
    "\n",
    "pred = model.predict(new_elements)\n",
    "pred = np.array([np.argmax(pred[i]) for i in range(10)])\n",
    "\n",
    "\n",
    "print(pred)\n",
    "plot_figures(X_10_samples_2, X_10_noise)"
   ]
  },
  {
   "cell_type": "markdown",
   "metadata": {},
   "source": [
    "### Trying an Reinforcement Learning"
   ]
  },
  {
   "cell_type": "code",
   "execution_count": null,
   "metadata": {},
   "outputs": [],
   "source": [
    "prop_action_states = dict()\n",
    "\n",
    "def get_state(noise):\n",
    "    noise = np.copy(noise)\n",
    "    for i in range(len(noise)):\n",
    "        if noise[i] > .9:\n",
    "            noise[i] = .9\n",
    "        elif noise[i] > .8:\n",
    "            noise[i] = .8\n",
    "        elif noise[i] > .7:\n",
    "            noise[i] = .7\n",
    "        elif noise[i] > .6:\n",
    "            noise[i] = .6\n",
    "        elif noise[i] > .5:\n",
    "            noise[i] = .5\n",
    "        elif noise[i] > .4:\n",
    "            noise[i] = .4\n",
    "        elif noise[i] > .3:\n",
    "            noise[i] = .3\n",
    "        elif noise[i] > .2:\n",
    "            noise[i] = .2\n",
    "        elif noise[i] > .1:\n",
    "            noise[i] = .1\n",
    "        else:\n",
    "            noise[i] = .0\n",
    "    \n",
    "    return noise\n",
    "\n",
    "def Q_function(state, noise, action):\n",
    "    X_10_noise = np.reshape(individual, (28, 28))\n",
    "    pred = model.predict((X_10_samples_2 + X_10_noise))\n",
    "    value = np.sum(pred, axis=0)[6]\n",
    "    \n",
    "    return value\n"
   ]
  },
  {
   "cell_type": "code",
   "execution_count": null,
   "metadata": {},
   "outputs": [],
   "source": [
    "def get_best_action(state):\n",
    "    state_name = ''\n",
    "    for i in range(28*28):\n",
    "        state_name = state_name + str(state[i])\n",
    "    \n",
    "    if state_name not in prop_action_states:\n",
    "        prop_action = np.zeros(28*28)\n",
    "        prop_action = np.reshape(prop_action, (28,28))\n",
    "        prop_action[:4, :] = .5\n",
    "        prop_action[:-4, :] = .5\n",
    "        prop_action[:, :-4] = .5\n",
    "        prop_action[:, :4] = .5\n",
    "        prop_action = np.reshape(prop_action, (28*28))\n",
    "        prop_action_states[state_name] = prop_action\n",
    "    \n",
    "    prop_action = prop_action_states.get(state_name)\n",
    "    best_indices = np.where(prop_action == prop_action.max())[0]\n",
    "#     print(prop_action.max(), \"best_indices \", len(best_indices[0]))\n",
    "    return best_indices[np.random.randint(len(best_indices))]\n",
    "\n",
    "def update_prop_action_states(state, action, value):\n",
    "    state_name = ''\n",
    "    for i in range(28*28):\n",
    "        state_name = state_name + str(state[i])\n",
    "    \n",
    "    if state_name not in prop_action_states:\n",
    "        prop_action = np.zeros(28*28)\n",
    "        prop_action = np.reshape(prop_action, (28,28))\n",
    "        prop_action[:4, :] = .5\n",
    "        prop_action[:-4, :] = .5\n",
    "        prop_action[:, :-4] = .5\n",
    "        prop_action[:, :4] = .5\n",
    "        prop_action = np.reshape(prop_action, (28*28))\n",
    "        prop_action_states[state_name] = prop_action\n",
    "    \n",
    "    prop_action = prop_action_states.get(state_name)\n",
    "    prop_action[action] = prop_action[action] + value\n",
    "    prop_action_states[state_name] = prop_action"
   ]
  },
  {
   "cell_type": "code",
   "execution_count": null,
   "metadata": {
    "scrolled": true
   },
   "outputs": [],
   "source": [
    "max_actions = (28*28*10)\n",
    "num_train_times = 100\n",
    "best_val = 0\n",
    "\n",
    "for num_train_time in range(num_train_times):\n",
    "    initial_noise = np.zeros(28*28)\n",
    "    initial_state = get_state(initial_noise)\n",
    "    state = np.array(initial_state)\n",
    "    noise = np.array(initial_noise)\n",
    "    \n",
    "    print('num_train ', num_train_time, ' -- best val until now: ', best_val)\n",
    "    for action_time in range(max_actions):\n",
    "        top_noise = np.reshape(noise, (28, 28))\n",
    "        new_element = (X_10_samples_2 + top_noise)\n",
    "        pred = model.predict(new_element)\n",
    "        actual_val = np.sum(pred[:, 6])\n",
    "        \n",
    "        # Select an action (Explore or Exploit)\n",
    "        action = -1\n",
    "        if np.random.rand() < .2: # Explore\n",
    "            rand_i = np.random.randint(8)\n",
    "            rand_i = rand_i if rand_i < 5 else (19 + rand_i)\n",
    "            rand_j = np.random.randint(8)\n",
    "            rand_j = rand_j if rand_j < 5 else (19 + rand_j)\n",
    "            action = (rand_i*28) + rand_j\n",
    "        else: # Exploite\n",
    "            action = get_best_action(state)\n",
    "\n",
    "        # Apply Action\n",
    "        noise_added = np.random.randint(256)/255.0\n",
    "        if np.random.rand() > .5:\n",
    "            noise_added = -noise_added\n",
    "        noise[action] = noise[action] + noise_added\n",
    "        noise[action] = np.minimum((noise[action]), 1)\n",
    "        noise[action] = np.maximum((noise[action]), 0)\n",
    "        \n",
    "        # Getting Reward\n",
    "        top_noise = np.reshape(noise, (28, 28))\n",
    "        new_element = (X_10_samples_2 + top_noise)\n",
    "        pred = model.predict(new_element)\n",
    "        new_value = np.sum(pred[:, 6])\n",
    "        \n",
    "        if best_val < new_value:\n",
    "            best_val = new_value\n",
    "\n",
    "        if new_value > 9.5:\n",
    "            break\n",
    "        \n",
    "        if action_time%1000 == 0:\n",
    "            print('\\nnoise add: ', noise_added, ' in position ', action, '(', int(action/28), ', ', (action%28), ')')\n",
    "            print('\\naction_time ', action_time, ' -- best val: ', best_val,' -- actual_val: ', actual_val, '  -- new_val', new_value,'  ** diff values: ', (new_value - actual_val))\n",
    "#             print(noise)\n",
    "            \n",
    "        # Update Q_Function\n",
    "        update_prop_action_states(state, action, (0.02 if (new_value - actual_val) > 0 else -.02))\n",
    "        \n",
    "        # Generating new state\n",
    "        state = get_state(noise)"
   ]
  },
  {
   "cell_type": "code",
   "execution_count": null,
   "metadata": {},
   "outputs": [],
   "source": [
    "X_10_noise = np.zeros((10, 28, 28))\n",
    "for i in range(10):\n",
    "    X_10_noise[i] = np.reshape((top_noise), (1, 28,28))\n",
    "    \n",
    "new_element = (X_10_samples_2 + X_10_noise)\n",
    "pred = model.predict(new_element)\n",
    "pred = np.array([np.argmax(pred[i]) for i in range(10)])\n",
    "\n",
    "\n",
    "print(pred)\n",
    "plot_figures(X_10_samples_2, X_10_noise)"
   ]
  },
  {
   "cell_type": "code",
   "execution_count": null,
   "metadata": {},
   "outputs": [],
   "source": [
    ".0816-(.0816*.15)\n",
    ".064*.93\n",
    "1461/365"
   ]
  }
 ],
 "metadata": {
  "kernelspec": {
   "display_name": "Python 3",
   "language": "python",
   "name": "python3"
  },
  "language_info": {
   "codemirror_mode": {
    "name": "ipython",
    "version": 3
   },
   "file_extension": ".py",
   "mimetype": "text/x-python",
   "name": "python",
   "nbconvert_exporter": "python",
   "pygments_lexer": "ipython3",
   "version": "3.6.5"
  }
 },
 "nbformat": 4,
 "nbformat_minor": 2
}
