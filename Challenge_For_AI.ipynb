{
 "cells": [
  {
   "cell_type": "code",
   "execution_count": 1,
   "metadata": {},
   "outputs": [],
   "source": [
    "import tensorflow\n",
    "import numpy as np"
   ]
  },
  {
   "cell_type": "code",
   "execution_count": 2,
   "metadata": {},
   "outputs": [],
   "source": [
    "x = np.array([2, -1, 3, -2, 2, 2, 1, -4, 5, 1])\n",
    "w = np.array([-1, -1, 1, -1, 1, -1, 1, 1, -1, 1])"
   ]
  },
  {
   "cell_type": "markdown",
   "metadata": {},
   "source": [
    "## Toy Example showing the phenomenal of fool a binary logistic  regression\n",
    "\n",
    "'p' is the probability of be class 1.\n",
    "If p > 0.5 it belongs to the class 1 otherwise not."
   ]
  },
  {
   "cell_type": "code",
   "execution_count": 6,
   "metadata": {},
   "outputs": [
    {
     "name": "stdout",
     "output_type": "stream",
     "text": [
      "0.04742587317756679\n"
     ]
    }
   ],
   "source": [
    "p = 1/(1+np.power(np.e, -np.dot(x, w)))\n",
    "print(p)"
   ]
  },
  {
   "cell_type": "markdown",
   "metadata": {},
   "source": [
    "#### Let's try to foll the classifier\n",
    "\n",
    "Doing the dot product again we see that suddenly the score becomes 2. This is not surprising: There are 10 dimensions and we’ve tweaked the input by 0.5 in every dimension in such a way that we gain 0.5 in each one, adding up to a total of 5 additional score, rising it from -3 to 2. Now when we look at probability of class 1 we get 1/(1+e^(-2)) = 0.88. That is, we tweaked the original x by a small amount and we improved the class 1 probability from 5% to 88%!"
   ]
  },
  {
   "cell_type": "code",
   "execution_count": 11,
   "metadata": {},
   "outputs": [],
   "source": [
    "# xad = x + 0.5w gives:\n",
    "xad = [1.5, -1.5, 3.5, -2.5, 2.5, 1.5, 1.5, -3.5, 4.5, 1.5]\n",
    "# xad = [1.1, -1.1, 3.1, -2.1, 2.1, 1.1, 1.1, -3.1, 4.1, 1.1]"
   ]
  },
  {
   "cell_type": "code",
   "execution_count": 12,
   "metadata": {},
   "outputs": [
    {
     "name": "stdout",
     "output_type": "stream",
     "text": [
      "0.8807970779778823\n"
     ]
    }
   ],
   "source": [
    "p = 1/(1+np.power(np.e, -np.dot(xad, w)))\n",
    "print(p)"
   ]
  },
  {
   "cell_type": "markdown",
   "metadata": {},
   "source": [
    "## Reproducing the  “Deep MNIST for Experts” tutorial"
   ]
  },
  {
   "cell_type": "code",
   "execution_count": 55,
   "metadata": {},
   "outputs": [],
   "source": [
    "%matplotlib inline\n",
    "import matplotlib.pyplot as plt\n",
    "from matplotlib.pyplot import figure\n",
    "import tensorflow as tf\n"
   ]
  },
  {
   "cell_type": "code",
   "execution_count": 56,
   "metadata": {},
   "outputs": [],
   "source": [
    "def plot_figures(X_10_samples_2, X_10_noise):\n",
    "    figure(num=None, figsize=(16, 12), dpi=80, facecolor='w', edgecolor='k')\n",
    "    fig = plt.figure(figsize=(30,15))\n",
    "\n",
    "    idx_img = 0;\n",
    "    for i in range(1, 30, 3):\n",
    "        ax1 = fig.add_subplot(10, 3, i)\n",
    "        ax1.imshow(X_10_samples_2[idx_img])\n",
    "        ax2 = fig.add_subplot(10, 3, i+1)\n",
    "        ax2.imshow(X_10_noise[idx_img])\n",
    "        ax3 = fig.add_subplot(10, 3, i+2)\n",
    "        ax3.imshow( (X_10_samples_2[idx_img] + X_10_noise[idx_img]) )\n",
    "\n",
    "        idx_img = idx_img + 1"
   ]
  },
  {
   "cell_type": "code",
   "execution_count": 57,
   "metadata": {},
   "outputs": [],
   "source": [
    "mnist = tf.keras.datasets.mnist\n",
    "\n",
    "(x_train, y_train),(x_test, y_test) = mnist.load_data()\n",
    "x_train, x_test = x_train / 255.0, x_test / 255.0\n"
   ]
  },
  {
   "cell_type": "code",
   "execution_count": 70,
   "metadata": {},
   "outputs": [
    {
     "name": "stdout",
     "output_type": "stream",
     "text": [
      "Epoch 1/5\n",
      "60000/60000 [==============================] - 11s 190us/step - loss: 0.2235 - acc: 0.9339\n",
      "Epoch 2/5\n",
      "60000/60000 [==============================] - 11s 189us/step - loss: 0.0995 - acc: 0.9696\n",
      "Epoch 3/5\n",
      "60000/60000 [==============================] - 12s 206us/step - loss: 0.0689 - acc: 0.9785\n",
      "Epoch 4/5\n",
      "60000/60000 [==============================] - 13s 212us/step - loss: 0.0544 - acc: 0.9823\n",
      "Epoch 5/5\n",
      "60000/60000 [==============================] - 12s 206us/step - loss: 0.0454 - acc: 0.9852\n",
      "10000/10000 [==============================] - 1s 65us/step\n"
     ]
    },
    {
     "data": {
      "text/plain": [
       "[0.06606205285267205, 0.98]"
      ]
     },
     "execution_count": 70,
     "metadata": {},
     "output_type": "execute_result"
    }
   ],
   "source": [
    "model = tf.keras.models.Sequential([\n",
    "  tf.keras.layers.Flatten(),\n",
    "  tf.keras.layers.Dense(512, activation=tf.nn.relu),\n",
    "  tf.keras.layers.Dropout(0.2),\n",
    "  tf.keras.layers.Dense(10, activation=tf.nn.softmax)\n",
    "])\n",
    "    \n",
    "model.compile(optimizer='adam',\n",
    "              loss='sparse_categorical_crossentropy',\n",
    "              metrics=['accuracy'])\n",
    "\n",
    "model.fit(x_train, y_train, epochs=5)\n",
    "\n",
    "\n",
    "for i in range(len(model.layers)):\n",
    "    layer = model.layers[i]\n",
    "    layer.trainable = False\n",
    "\n",
    "model.compile(optimizer='adam',\n",
    "          loss='sparse_categorical_crossentropy',\n",
    "          metrics=['accuracy'])\n",
    "\n",
    "model.evaluate(x_test, y_test)"
   ]
  },
  {
   "cell_type": "code",
   "execution_count": 156,
   "metadata": {},
   "outputs": [],
   "source": [
    "fisrt_layer = model.layers[1]"
   ]
  },
  {
   "cell_type": "markdown",
   "metadata": {},
   "source": [
    "#### Selecting samples from the 2"
   ]
  },
  {
   "cell_type": "code",
   "execution_count": 225,
   "metadata": {
    "scrolled": true
   },
   "outputs": [
    {
     "name": "stdout",
     "output_type": "stream",
     "text": [
      "(5958, 28, 28)\n",
      "(5958,)\n",
      "(10, 28, 28)\n",
      "(10, 28, 28)\n",
      "(5958,)\n"
     ]
    }
   ],
   "source": [
    "X_samples_2 = x_train[y_train==2]\n",
    "X_10_samples_2 = X_samples_2[:10]\n",
    "X_10_noise = np.zeros((10, 28, 28))\n",
    "X_10_noise = X_10_noise\n",
    "\n",
    "Y_samples_2 = y_train[y_train==2]\n",
    "Y_fakes = np.copy(Y_samples_2[:])\n",
    "Y_fakes[:] = 6\n",
    "\n",
    "print(X_samples_2.shape)\n",
    "print(Y_samples_2.shape)\n",
    "print(X_10_samples_2.shape)\n",
    "print(X_10_noise.shape)\n",
    "print(Y_fakes.shape)"
   ]
  },
  {
   "cell_type": "markdown",
   "metadata": {},
   "source": [
    "#### In the fisrt way to try fool the Neural Network I will follow this steps.\n",
    "* Get image samples of 2 and target it as 6\n",
    "* Apply the feedforward in CNN\n",
    "* Get the gradient and apply it on image\n",
    "* Get the difference of new image and original image as noise"
   ]
  },
  {
   "cell_type": "code",
   "execution_count": 226,
   "metadata": {
    "scrolled": true
   },
   "outputs": [
    {
     "name": "stdout",
     "output_type": "stream",
     "text": [
      "0   -  0  -  [2 2 2 2 2 2 2 2 2 2] 100\n",
      "1   -  2  -  [2 6 8 2 6 2 2 7 2 2] 15.050866834186555\n",
      "2   -  2  -  [2 6 8 2 6 2 2 7 2 2] 15.059294555602596\n",
      "3   -  2  -  [2 6 8 2 6 2 2 7 2 2] 15.026254098821143\n",
      "4   -  2  -  [2 6 8 2 6 2 2 7 2 2] 15.03504886575976\n",
      "5   -  2  -  [2 6 8 2 6 2 2 7 2 2] 15.041726776320248\n",
      "6   -  2  -  [2 6 8 2 6 2 2 7 2 2] 15.057019665882306\n",
      "7   -  2  -  [2 6 8 2 6 2 2 7 2 2] 15.023881118943445\n",
      "8   -  2  -  [2 6 8 2 6 2 2 7 2 2] 15.039464062834474\n",
      "9   -  2  -  [2 6 8 2 6 2 2 7 2 2] 15.009449226338418\n",
      "10   -  2  -  [2 6 8 2 6 2 2 7 2 2] 15.032375473030145\n",
      "11   -  2  -  [2 6 8 2 6 2 2 7 2 2] 15.03474821280857\n",
      "12   -  2  -  [2 6 0 2 6 2 2 7 2 2] 15.046839662508981\n",
      "13   -  2  -  [2 6 0 2 6 2 2 7 2 2] 15.02482396862418\n",
      "14   -  2  -  [2 6 0 2 6 2 2 7 2 2] 15.029895421361395\n",
      "15   -  2  -  [2 6 0 2 6 2 2 7 2 2] 15.039349334757773\n",
      "16   -  2  -  [2 6 5 2 6 2 2 7 2 2] 15.053911814156615\n",
      "17   -  2  -  [2 6 5 2 6 2 2 7 2 2] 15.033236600601182\n",
      "18   -  2  -  [2 6 5 2 6 2 2 7 2 2] 15.055949869312748\n",
      "19   -  2  -  [2 6 5 2 6 2 2 7 2 2] 15.029356548953432\n",
      "20   -  2  -  [2 6 5 2 6 2 2 7 2 2] 15.0408505160923\n",
      "21   -  2  -  [2 6 5 2 6 2 2 7 2 2] 15.0503242111078\n",
      "22   -  2  -  [2 6 5 2 6 2 2 7 2 2] 15.040992853024456\n",
      "23   -  2  -  [2 6 5 2 6 2 2 7 2 2] 15.0369988140863\n",
      "24   -  2  -  [2 6 5 2 6 2 2 7 2 2] 15.048611749134915\n",
      "25   -  2  -  [2 6 5 2 6 2 2 7 2 2] 15.035940843206317\n",
      "26   -  2  -  [2 6 5 2 6 2 2 7 2 2] 15.056868742679981\n",
      "27   -  2  -  [2 6 5 2 6 2 2 7 2 2] 15.025036088329468\n",
      "28   -  2  -  [2 6 5 2 6 2 2 7 2 2] 15.07699850702814\n",
      "29   -  2  -  [2 6 5 2 6 2 2 7 2 2] 15.035449524220303\n",
      "30   -  2  -  [2 6 5 2 6 2 2 7 2 2] 15.07294743042658\n",
      "31   -  2  -  [2 6 5 2 6 2 2 7 2 2] 15.051386238705115\n",
      "32   -  2  -  [2 6 5 2 6 2 2 7 2 2] 15.067901243496037\n",
      "33   -  2  -  [2 6 5 2 6 2 2 7 2 2] 15.039253084080936\n",
      "34   -  2  -  [2 6 5 2 6 2 2 7 2 2] 15.040726638632599\n",
      "35   -  2  -  [2 6 5 2 6 2 2 7 2 2] 15.040819926804526\n",
      "36   -  2  -  [2 6 5 2 6 2 2 7 2 2] 15.035936607534993\n",
      "37   -  2  -  [2 6 5 2 6 2 2 7 2 2] 15.034933774652957\n",
      "38   -  2  -  [2 6 5 2 6 2 2 7 2 2] 15.046873244394108\n",
      "39   -  2  -  [2 6 5 2 6 2 2 7 2 2] 15.055254161497938\n",
      "40   -  2  -  [2 6 5 2 6 2 2 7 2 2] 15.070322335746793\n",
      "41   -  2  -  [2 6 5 2 6 2 2 7 2 2] 15.036931355794271\n",
      "42   -  2  -  [2 6 5 2 6 2 2 7 2 2] 15.058218897729562\n",
      "43   -  2  -  [2 6 5 2 6 2 2 7 2 2] 15.029006005293894\n",
      "44   -  2  -  [2 6 5 2 6 2 2 7 2 2] 15.047221212908902\n",
      "45   -  2  -  [2 6 5 2 6 2 2 7 2 2] 15.052327368954918\n",
      "46   -  2  -  [2 6 5 2 6 2 2 7 2 2] 15.043499518897399\n",
      "47   -  2  -  [2 6 5 2 6 2 2 7 2 2] 15.044907872090207\n",
      "48   -  2  -  [2 6 5 2 6 2 2 7 2 2] 15.052514981567239\n",
      "49   -  2  -  [2 6 5 2 6 2 2 7 2 2] 15.039892014499957\n",
      "50   -  2  -  [2 6 5 2 6 2 2 7 2 2] 15.03528310725176\n",
      "51   -  2  -  [2 6 5 2 6 2 2 7 2 2] 15.048702907466216\n",
      "52   -  2  -  [2 6 5 2 6 2 2 7 2 2] 15.050070784083147\n",
      "53   -  2  -  [2 6 5 2 6 2 2 7 2 2] 15.045427288453665\n",
      "54   -  2  -  [2 6 5 2 6 2 2 7 2 2] 15.051216975759843\n",
      "55   -  2  -  [2 6 5 2 6 2 2 7 2 2] 15.057693650795335\n",
      "56   -  2  -  [2 6 5 2 6 2 2 7 2 2] 15.02622347335841\n",
      "57   -  2  -  [2 6 5 2 6 2 2 7 2 2] 15.030017216680193\n",
      "58   -  2  -  [2 6 5 2 6 2 2 7 2 2] 15.048736036684177\n",
      "59   -  2  -  [2 6 5 2 6 2 2 7 2 2] 15.06297734168681\n",
      "60   -  2  -  [2 6 5 2 6 2 2 7 2 2] 15.071690585638061\n",
      "61   -  2  -  [2 6 5 2 6 2 2 7 2 2] 15.043240891002336\n",
      "62   -  2  -  [2 6 5 2 6 2 2 7 2 2] 15.042545276346043\n",
      "63   -  2  -  [2 6 5 2 6 2 2 7 2 2] 15.043429479378108\n",
      "64   -  2  -  [2 6 5 2 6 2 2 7 2 2] 15.034032601084073\n",
      "65   -  2  -  [2 6 5 2 6 2 2 7 2 2] 15.035385563374366\n",
      "66   -  2  -  [2 6 5 2 6 2 2 7 2 2] 15.04274113716876\n",
      "67   -  2  -  [2 6 5 2 6 2 2 7 2 2] 15.023743157260327\n",
      "68   -  2  -  [2 6 5 2 6 2 2 7 2 2] 15.041291917158718\n",
      "69   -  2  -  [2 6 5 2 6 2 2 7 2 2] 15.050545191756829\n",
      "70   -  2  -  [2 6 5 2 6 2 2 7 2 2] 15.028105187071935\n",
      "71   -  2  -  [2 6 5 2 6 2 2 7 2 2] 15.053497967843283\n",
      "72   -  2  -  [2 6 5 2 6 2 2 7 2 2] 15.037320678687887\n",
      "73   -  2  -  [2 6 5 2 6 2 2 7 2 2] 15.03546706267194\n",
      "74   -  2  -  [2 6 5 2 6 2 2 7 2 2] 15.051411462574446\n",
      "75   -  2  -  [2 6 5 2 6 2 2 7 2 2] 15.042317260148021\n",
      "76   -  2  -  [2 6 5 2 6 2 2 7 2 2] 15.026071611848122\n",
      "77   -  2  -  [2 6 5 2 6 2 2 7 2 2] 15.042740306105138\n",
      "78   -  2  -  [2 6 5 2 6 2 2 7 2 2] 15.058117651707295\n",
      "79   -  2  -  [2 6 5 2 6 2 2 7 2 2] 15.052566746330454\n",
      "80   -  2  -  [2 6 5 2 6 2 2 7 2 2] 15.045212281474575\n",
      "81   -  2  -  [2 6 5 2 6 2 2 7 2 2] 15.048125531778275\n",
      "82   -  2  -  [2 6 5 2 6 2 2 7 2 2] 15.045928706975541\n",
      "83   -  2  -  [2 6 5 2 6 2 2 7 2 2] 15.05578796396963\n",
      "84   -  2  -  [2 6 5 2 6 2 2 7 2 2] 15.062812410772707\n",
      "85   -  2  -  [2 6 5 2 6 2 2 7 2 2] 15.043915334344911\n",
      "86   -  2  -  [2 6 5 2 6 2 2 7 2 2] 15.05018542732477\n",
      "87   -  2  -  [2 6 5 2 6 2 2 7 2 2] 15.047303611138156\n",
      "88   -  2  -  [2 6 5 2 6 2 2 7 2 2] 15.034650928424325\n",
      "89   -  2  -  [2 6 5 2 6 2 2 7 2 2] 15.036336629572391\n",
      "90   -  2  -  [2 6 5 2 6 2 2 7 2 2] 15.06709057550856\n",
      "91   -  2  -  [2 6 5 2 6 2 2 7 2 2] 15.058587753600664\n",
      "92   -  2  -  [2 6 5 2 6 2 2 7 2 2] 15.044591658465132\n",
      "93   -  2  -  [2 6 5 2 6 2 2 7 2 2] 15.042590505286887\n",
      "94   -  2  -  [2 6 5 2 6 2 2 7 2 2] 15.04612238929751\n",
      "95   -  2  -  [2 6 5 2 6 2 2 7 2 2] 15.074878516874284\n",
      "96   -  2  -  [2 6 5 2 6 2 2 7 2 2] 15.041800702566587\n",
      "97   -  2  -  [2 6 5 2 6 2 2 7 2 2] 15.047873388164273\n",
      "98   -  2  -  [2 6 5 2 6 2 2 7 2 2] 15.042149177850913\n",
      "99   -  2  -  [2 6 5 2 6 2 2 7 2 2] 15.037858105378088\n",
      "[[-8.41167125e+01  1.55515478e+01  4.63059946e+01 -5.62851921e+00\n",
      "   1.02252212e+01  1.60378111e+01 -4.72341330e+01  7.81025319e+01\n",
      "   3.70233774e+01  3.92436818e+01 -3.30719905e+01 -6.68009146e+01\n",
      "   3.77180686e+01 -9.07477985e+01  6.26073881e+01 -5.54659281e+01\n",
      "   7.01574551e+01  8.19680005e+00 -8.46071233e+01  6.65026958e+01\n",
      "  -4.10604576e+01 -1.08620511e+01  6.52032999e+01  8.58556291e+01\n",
      "  -7.89728427e+01 -5.17119790e+00  4.19781942e-02  5.28786086e+01]\n",
      " [-4.80252510e+01 -8.69038287e+00 -9.11731183e+01 -6.62731998e+01\n",
      "   5.75623884e+01  4.67892930e+01  7.12496608e-01  1.04106448e+02\n",
      "   1.30738031e+02  4.68563490e+01  3.87608177e+01  1.43018441e+02\n",
      "   2.09649212e+02  9.00305655e+01  4.25991463e+01  2.67723627e+02\n",
      "   1.67639688e+02  2.32971333e+02  1.43858487e+02  3.42971463e+02\n",
      "   2.20742148e+02  3.34604515e+01 -1.74743705e+01  9.03558882e+01\n",
      "   6.92653430e+01 -3.81312317e+01  4.44974183e+01 -1.02075297e+02]\n",
      " [-5.63558657e+01  4.02733917e+01 -8.76372199e+01  1.37035601e+02\n",
      "   2.00495321e+02  9.38456717e+01  1.56631055e+02  1.52874573e+02\n",
      "   5.34916696e+01  4.95610644e+01  1.76543157e+02  1.83509362e+02\n",
      "   3.16781801e+02  2.39380578e+02  1.87853887e+02  1.32136449e+02\n",
      "   2.09638563e+02  9.65910065e+01  2.18615912e+02  1.63196311e+02\n",
      "   1.84329613e+02  3.03585493e+02  8.51804534e+01  4.65149551e+01\n",
      "   1.04293651e+02  5.34452134e+01 -1.02160666e+02  8.12300025e+01]\n",
      " [-2.40463874e+01  8.44539279e+01  1.10407141e+01  1.54832943e+02\n",
      "  -5.62047778e+01 -3.12294049e+00  2.24785866e+02  3.06001037e+02\n",
      "   3.34028101e+02  2.75817921e+02  3.00941864e+02  1.34283009e+02\n",
      "   4.03815610e+02  4.49988307e+02  4.10261218e+02  4.96268786e+02\n",
      "   2.92465094e+02  1.14960709e+02  5.03966153e+01  9.47085673e+01\n",
      "  -2.79464783e+01 -1.22066032e+02 -9.76577231e+01 -4.65314636e+01\n",
      "   8.79724234e+01  8.38723873e+01 -1.22734219e+02  4.73963796e+01]\n",
      " [-2.33672487e+01  9.70315139e+01 -6.24640179e+01  1.86723757e+01\n",
      "   2.51606624e+02  1.11618549e+02  3.58900490e+02  2.81984871e+02\n",
      "   1.08266201e+02  1.59171572e+02  3.21313426e+02  4.97153008e+02\n",
      "   4.46929290e+02  2.23590569e+02  3.32885039e+02  1.43414750e+02\n",
      "   2.29112141e+02  2.77525519e+02  2.70679723e+02  1.83810854e+02\n",
      "   1.39168727e+01  9.38007367e+00  9.32211438e+01 -8.08633476e+00\n",
      "  -1.69048923e+02 -2.52012708e+02  5.56433628e+01  1.29370842e+02]\n",
      " [ 3.59152033e+01  1.27091589e+01  5.26973345e+01 -5.84229133e+01\n",
      "   2.28606250e+02  2.32030371e+02  2.98043139e+02  1.65344989e+02\n",
      "  -7.00730111e+01 -6.54835896e+01 -4.82567420e+01  1.29704695e+02\n",
      "   2.77315371e+02  2.10034134e+02  8.00106338e+01 -3.63832434e+01\n",
      "   5.91962984e+01  1.58002918e+02  3.60723834e+02  3.68065637e+02\n",
      "   3.80052297e+02  2.00851232e+02  1.77414140e+01 -2.38956493e+02\n",
      "  -2.65934224e+02 -7.42762166e+01 -1.67586157e+01 -1.02984686e+01]\n",
      " [-8.91151887e+01  3.10940694e+01 -1.94818995e+02  5.46223795e+01\n",
      "   1.08413949e+02 -6.91233514e+01 -5.06439003e+01 -1.81209921e+02\n",
      "  -1.56847817e+02 -8.28425704e+01 -9.73969655e+01 -6.48665774e+01\n",
      "   5.00667590e+01 -1.32146626e+01 -3.36386458e+01  1.21179739e+01\n",
      "   8.32242470e+01  4.56068839e+01  2.34935150e+02  2.13310302e+01\n",
      "  -8.46148069e+01 -5.07174990e+01 -1.76120842e+02 -2.78861872e+02\n",
      "  -1.49406345e+02 -2.21688626e+02 -1.73026874e+02  8.90584425e+01]\n",
      " [-3.60980804e+00  5.88513490e+01 -1.79683641e+02 -1.82368834e+02\n",
      "   5.39091308e+01 -1.21271796e+02 -1.93528105e+02 -2.88100605e+01\n",
      "   5.48951550e+00 -1.19528732e+02 -1.06289915e+01 -9.71187547e+01\n",
      "  -3.08419564e+01 -6.39638178e+00  8.72050967e+01  5.07834818e+01\n",
      "   3.34167358e+01  5.49846974e+01  2.39409676e+02  6.08087658e+01\n",
      "  -1.31076782e+02 -3.05996039e+02 -2.36758472e+02 -1.78273858e+02\n",
      "  -1.81648758e+02 -1.70238458e+02 -1.49772895e+02 -2.21203337e+01]\n",
      " [ 1.45358940e+02 -2.67418001e+02 -1.14160500e+02 -1.77036270e+02\n",
      "  -1.74169880e-01 -2.07844296e+02 -8.13547712e+01 -5.06637404e+01\n",
      "  -1.38427453e+01  4.36984427e+01  6.05503839e+01 -5.47247241e+01\n",
      "  -4.21080490e+01  1.15523183e+02  5.25012925e+01  9.39580221e+00\n",
      "   5.90328977e+01  9.93419621e+01  1.00132803e+01  8.28691754e+01\n",
      "   4.24151654e+01 -1.46837078e+02 -1.60429886e+02 -2.11640133e+02\n",
      "  -3.14607970e+02 -3.66992113e+02 -1.17203308e+02  9.14035612e+01]\n",
      " [-2.01720089e+01 -1.98521370e+02 -1.48744670e+02  1.15760805e+02\n",
      "   7.17991332e+01 -5.66977832e+01  2.09713600e+01  9.09080781e+01\n",
      "   1.75146995e+01  1.40421117e+02  5.04874656e+01 -5.51570659e+01\n",
      "   4.88983805e+01  1.64917629e+02  1.52551245e+02  2.27757583e+01\n",
      "   9.04651043e+01  3.98983175e+01 -1.21082160e+02 -4.68706404e+01\n",
      "   7.44633865e+01 -1.40188101e+02 -1.21531468e+02 -1.94473619e+02\n",
      "  -2.32194496e+02 -1.50988828e+02  1.91428258e+01 -2.59532173e+01]\n",
      " [-7.90621732e+00 -2.23793836e+02 -1.21745249e+02 -8.64413545e+00\n",
      "   8.09432672e+01 -1.99257922e+02 -1.84217455e+02 -2.11570434e+01\n",
      "  -4.21357356e+01 -8.79441651e+01  7.72318555e+00 -1.01232774e+02\n",
      "  -9.57925801e+01  4.75856737e+01  1.84124923e+02  4.45447124e+01\n",
      "   1.17136830e+01 -3.39899567e+01 -1.46611650e+02 -6.90000957e+01\n",
      "   2.08704775e+02  4.22444725e+01 -5.98691488e+01  1.66128810e+02\n",
      "   1.21349499e+02 -6.03015972e+01 -3.74596499e+00 -8.58986729e+01]\n",
      " [ 1.34892092e+01  1.61658067e+01 -1.22001343e+02 -1.21955364e+02\n",
      "   1.71978698e+02  1.51721537e+01 -7.89728200e+01 -1.66080633e+02\n",
      "  -1.43349951e+02 -1.99762106e+01 -2.55086382e+01 -1.92668769e+02\n",
      "  -1.65717883e+02  1.24865254e+02  1.35860682e+02  4.15986586e+01\n",
      "  -2.16958005e+01 -1.35724581e+02 -8.76009808e+01 -7.14615213e+00\n",
      "   1.18233719e+02  8.61244861e+01  1.18421349e+02  2.74689228e+02\n",
      "   3.29360260e+02  1.39582338e+02  4.12445734e+01  1.21885802e+01]\n",
      " [ 3.39957853e+01  1.10577247e+01 -2.08939965e+02 -1.64353440e+02\n",
      "   2.35788029e+02  2.24106121e+02 -5.37318082e+01 -8.26856988e+01\n",
      "  -2.12466470e+02 -4.48770099e+01 -1.35147826e+02 -9.67786807e+01\n",
      "  -1.26858181e+02  4.15120455e+01  2.38969405e+02  1.11588958e+02\n",
      "  -1.11064281e+02 -8.94284561e+01 -1.83956125e+02 -1.67080039e+02\n",
      "   4.43642536e+01 -5.31297208e+01  2.45080466e+02  5.14843260e+02\n",
      "   4.90933915e+02  2.71428369e+01 -5.74731918e+01 -1.23720835e+01]\n",
      " [-9.64347512e+01  5.21807334e+01 -1.04024722e+02  4.78041286e+01\n",
      "  -4.40331415e+01  1.68359179e+01 -3.91836793e+01 -2.51271023e+02\n",
      "  -2.12578269e+02 -5.52743471e+01 -1.17834685e+02  3.46797274e+01\n",
      "  -4.49958070e+01  6.92927660e+01  1.24193491e+02 -9.58245263e+01\n",
      "  -1.53634002e+02 -5.95074698e+01 -2.52277122e+01  6.29277507e+01\n",
      "  -8.50437016e+01  6.82643409e-01  1.05508621e+02  2.18607056e+02\n",
      "   1.87063812e+02 -2.66259308e+01  5.05265685e+01 -1.16942330e+01]\n",
      " [ 9.32902254e+01 -1.81313726e+01 -6.49378114e+01  7.15816534e+01\n",
      "   2.09149644e+02  1.25820787e+02 -9.87308965e+01 -2.08099213e+02\n",
      "  -1.67164253e+02 -1.99853038e+02 -1.27484637e+02  5.36476162e+01\n",
      "   1.42217728e+02  1.45223411e+02  1.55246268e+02 -2.46470455e+01\n",
      "  -2.22067314e+02 -1.49737037e+02 -1.92188907e+02 -1.67163995e+02\n",
      "  -3.35452738e+01 -8.74537151e+01  4.66826241e+00 -3.66020230e+01\n",
      "   9.82298851e-01 -8.24517868e+01  1.57490852e+02  1.18921113e+01]\n",
      " [ 8.00306088e+01  3.51917942e+01 -7.05718906e+01 -5.63877800e+00\n",
      "   7.32893522e+00  8.96585738e+01 -1.45728640e+02 -7.94625019e+01\n",
      "  -1.53268775e+01  4.42330003e+01 -1.81073349e+02 -3.87181586e+01\n",
      "   2.44493647e+02  2.46360999e+02  1.53068547e+02  1.04009859e+01\n",
      "  -1.83173705e+02 -3.06762428e+02 -2.28755400e+02 -1.22949557e+02\n",
      "  -1.06053519e+02 -2.10185994e+02 -2.12694195e+02 -1.43673165e+02\n",
      "   1.04453663e+02 -9.62884832e+01  1.40936569e+02 -2.25386122e+01]\n",
      " [ 1.11060788e+01  4.22312037e+01  8.62711746e+01  8.02491136e+01\n",
      "  -1.49421555e+02 -1.34578022e+02 -2.53880779e+02 -2.17677939e+01\n",
      "   4.26879983e+01  6.99302239e+01 -1.10582803e+01  8.46653544e+01\n",
      "   8.64591908e+01  2.79050970e+02  1.01843191e+02 -2.05066695e+02\n",
      "  -2.22726277e+02 -3.42571858e+02 -1.52813192e+02 -1.98736249e+02\n",
      "  -1.25584386e+02 -1.57560472e+02 -9.84039489e+01 -1.97065237e+02\n",
      "   8.56216503e+01  1.41737988e+02  1.07505281e+02  7.82337402e+01]\n",
      " [ 2.78660108e+01  1.36601202e+02 -5.15635530e+01  2.34116904e+02\n",
      "  -1.93440159e+02 -7.22307580e+01 -1.35788675e+02 -2.63222982e+02\n",
      "  -4.87425457e+01 -3.02992775e+01 -9.95551937e+01  1.61988863e+02\n",
      "   3.69851429e+02  1.92495274e+02 -2.11906834e+01 -2.05426643e+02\n",
      "  -2.54336676e+02 -1.37551132e+02 -5.92368084e+01 -1.71631913e+00\n",
      "   5.22695490e+01  5.28707116e+01 -3.49512097e+01 -3.48000911e+01\n",
      "   3.98605204e+01  1.12690053e+02 -4.37153740e+01  1.56191332e+02]\n",
      " [-1.07810024e+02 -6.44029790e+01  4.59221323e+01  1.55206722e+02\n",
      "  -3.11191387e+01 -8.86436705e+01  2.89812520e+01 -1.15499958e+02\n",
      "  -3.17057433e+01  1.65565304e+02  2.77315908e+02  2.53681031e+02\n",
      "   2.94035897e+02  2.82687862e+02 -1.61464960e+02 -1.59523885e+02\n",
      "  -2.39194552e+02 -8.85911396e+01 -3.02293411e+01  1.24093203e+02\n",
      "   1.14090533e+02  1.70678450e+02  8.77123099e+01  2.21716491e+02\n",
      "   1.22019984e+02  6.67466573e+01 -1.31716409e+02 -4.85203865e+01]\n",
      " [ 1.09447072e+01  8.12963663e+01  8.97634014e+01 -1.79533966e+02\n",
      "  -1.53696494e+02  1.50188608e+02  8.41399379e+01  2.61898505e+01\n",
      "   2.05583861e+02  2.26036288e+02  4.59902422e+02  3.52777503e+02\n",
      "   4.06188449e+02  1.12296444e+02 -1.79372666e+02 -4.29583486e+01\n",
      "   7.50629687e+01 -2.61188435e+01  1.40524599e+02  6.44222922e+01\n",
      "   3.00148325e+02  1.74213563e+02  2.35181055e+02  2.03258058e+02\n",
      "  -1.85490276e+01 -6.53692117e+01  7.78739049e+01  6.77875928e+01]\n",
      " [ 8.64868661e+01 -1.46146116e+01  9.05800036e+01  1.64786953e+02\n",
      "   1.14967367e+02  9.10457150e+01  2.69639604e+02  1.51533883e+02\n",
      "   1.94481039e+02  3.92828733e+02  3.50459409e+02  1.72232046e+02\n",
      "   2.29284560e+02  9.42555614e+01  2.00512600e+01 -8.09119489e+01\n",
      "  -3.52041213e+01  1.88072118e+01  2.12814918e+02  3.46187273e+02\n",
      "   2.71896070e+02  3.05352746e+02  1.56045020e+02  1.80634075e+02\n",
      "   1.45135935e+02 -1.41990527e+01  5.76908951e+01  8.80367303e+01]\n",
      " [ 7.08505831e+01 -1.60413266e+01 -1.11749183e+01  2.72797509e+02\n",
      "   6.55007619e+01  1.93750854e+02  3.58484182e+02  3.10365627e+02\n",
      "   1.71568433e+02 -1.21950395e+01 -5.40474907e+01 -6.03871733e+00\n",
      "   2.79172002e+01  9.93538329e+01 -8.39711630e+00 -4.92954641e+01\n",
      "  -1.06673821e+02  1.49981934e+02  2.23259764e+02  4.23195437e+02\n",
      "   3.18315075e+02  9.27973377e+01  1.94896741e+02  1.74310612e+02\n",
      "  -1.32443993e+02 -1.25297018e+02  1.71757094e+02 -7.85065089e+00]\n",
      " [ 4.00571061e+01  3.11770086e+01  1.20699089e+02  3.69396003e+02\n",
      "   1.51207047e+02  3.84547204e+02  2.88448951e+02  4.82032014e+01\n",
      "  -2.27434717e+02 -3.14812804e+02 -1.54779957e+02 -1.75100923e+02\n",
      "   4.59045592e+01  1.25583422e+02  3.38827918e+01 -3.17852861e+01\n",
      "  -3.41903340e+01  1.66685108e+02  3.12634601e+02  3.26146400e+02\n",
      "   2.35359213e+02  1.24958200e+02  2.26142584e+01  1.42323149e+02\n",
      "  -1.82980616e+02 -5.68302866e+01  1.37160325e+02  7.02429978e+01]\n",
      " [ 3.46125847e+01  9.63212254e+01  1.08525144e+02  3.33517594e+02\n",
      "   5.35764272e+01  2.00051014e+02  9.30744327e+01  5.33818647e+01\n",
      "  -3.33762422e+02 -1.77891021e+02 -2.37334442e+02  3.70779040e+01\n",
      "   8.28126200e+01  6.88514907e+01 -1.26064081e+02 -7.49455923e+00\n",
      "  -2.13448166e+02  8.55796215e+01  2.24823326e+02 -8.91461316e+00\n",
      "   2.03801428e+01  1.56605818e+01  1.89956554e+01  7.59101155e+01\n",
      "   5.53819548e+01 -7.91386535e+01  6.99746177e+01 -7.69384971e+01]\n",
      " [ 6.59113691e+00  9.08709251e+01  5.99309620e+01  1.13470209e+02\n",
      "   1.54764354e+02  1.21762824e+02  3.04417359e+00  4.74803584e+01\n",
      "  -1.79310310e+02 -1.33130262e+02 -6.79494527e+01 -1.29922814e+02\n",
      "   3.59590870e+00  9.05804310e+00 -4.98128328e+01 -2.08060730e+01\n",
      "  -1.85594821e+02  3.61998621e+01  1.61304053e+02  3.97099787e+01\n",
      "  -1.22549435e+02 -1.76203543e+02 -1.01320684e+01  2.30147686e+02\n",
      "   3.10781972e+01 -2.37663182e+02 -5.02131891e+01  3.29055910e+01]\n",
      " [ 1.06900806e+01 -3.64432040e+01 -3.81534482e+01  7.58820364e+01\n",
      "   1.91388664e+02  1.79164401e+02  1.08918947e+01  2.30328578e+02\n",
      "   7.56618277e+01 -6.07928935e+01  8.59856502e+01 -9.19746714e+01\n",
      "   7.54230171e+01 -3.25331145e+00 -1.81865084e+02 -2.71153073e+01\n",
      "  -5.20712093e+01  1.92974389e+01  9.47253921e+01  2.07425008e+02\n",
      "  -5.51330729e+01  2.27293398e+01  3.09720497e+01  1.86764550e+02\n",
      "   2.35938254e+02 -3.97005014e+01  6.72445388e+01 -9.54580992e+01]\n",
      " [ 8.67836894e+01  9.33419281e+01 -7.70288877e+01 -1.50006751e+01\n",
      "   4.66355122e+01  1.43739389e+02  1.86126226e+01 -4.49927355e+01\n",
      "  -6.72117234e+01 -6.50761545e+01  1.25535660e+02  1.34158519e+02\n",
      "  -3.71660442e+01 -4.47059669e+01 -8.17844170e+01 -4.47756567e+00\n",
      "   4.55153306e+01  1.44962070e+02  3.41325672e+02  2.76049658e+02\n",
      "   8.16242835e+01  7.32292709e+00  3.80258043e+01  6.33428309e+01\n",
      "  -8.49665326e+01 -6.33853078e+01 -8.02544273e+01 -4.17969761e+01]\n",
      " [-6.62543687e+01 -8.44348609e+01 -9.30014618e+01 -7.66269060e+01\n",
      "   3.58116506e+01 -2.43381656e+02 -1.38049242e+01 -6.69505565e+01\n",
      "  -2.17321279e+01  5.06028633e+01 -1.30877517e+02  1.29102540e+02\n",
      "   2.73522945e+00 -1.83400446e+01  1.22843854e+02  1.37276832e+02\n",
      "  -1.28758678e+02 -3.90787418e+02  2.10804936e+01  3.70761918e+01\n",
      "  -5.10037859e+01 -1.87813310e+02 -6.69675665e+01 -1.10161003e+02\n",
      "  -7.44697648e+01  8.54861989e+01 -9.97931861e+01 -5.66454648e+01]]\n"
     ]
    }
   ],
   "source": [
    "pred = model.predict((X_10_samples_2 + X_10_noise))\n",
    "pred = np.array([np.argmax(pred[i]) for i in range(10)])\n",
    "count = 0\n",
    "\n",
    "W_l1 = fisrt_layer.get_weights()[0][:,:10].T\n",
    "W_l1 = np.reshape(W_l1, (10, 28, 28))\n",
    "# print(W_l1)\n",
    "\n",
    "# print(X_10_noise[0])\n",
    "# print(X_10_samples_2[0])\n",
    "loss = 100\n",
    "while np.sum(pred == 6) != 10 and count < 100:\n",
    "    print(count , '  - ', np.sum(pred==6), ' - ', pred, loss)\n",
    "    count = count + 1\n",
    "    # Calculate a loss\n",
    "    history = model.fit(X_samples_2, Y_fakes, epochs=1, verbose=0)\n",
    "    loss = history.history['loss'][0]\n",
    "    # Apply this loss on noise\n",
    "    X_10_noise = X_10_noise - ((W_l1 * loss))\n",
    "    \n",
    "    pred = model.predict((X_10_samples_2 + X_10_noise))\n",
    "    pred = np.array([np.argmax(pred[i]) for i in range(10)])\n",
    "    \n",
    "print(X_10_noise[0])"
   ]
  },
  {
   "cell_type": "code",
   "execution_count": 223,
   "metadata": {},
   "outputs": [
    {
     "name": "stdout",
     "output_type": "stream",
     "text": [
      "2\n",
      "6\n",
      "5\n",
      "2\n",
      "6\n",
      "2\n",
      "2\n",
      "7\n",
      "2\n",
      "2\n"
     ]
    }
   ],
   "source": [
    "pred = model.predict((X_10_noise))\n",
    "for i in range(10):\n",
    "    print( np.argmax( pred[i]) )"
   ]
  },
  {
   "cell_type": "code",
   "execution_count": 230,
   "metadata": {},
   "outputs": [
    {
     "data": {
      "text/plain": [
       "612.95"
      ]
     },
     "execution_count": 230,
     "metadata": {},
     "output_type": "execute_result"
    }
   ],
   "source": [
    "180.15+(5*86.56)"
   ]
  },
  {
   "cell_type": "code",
   "execution_count": 224,
   "metadata": {},
   "outputs": [
    {
     "data": {
      "text/plain": [
       "<Figure size 1280x960 with 0 Axes>"
      ]
     },
     "metadata": {},
     "output_type": "display_data"
    },
    {
     "data": {
      "image/png": "[encoded data removed]",
      "text/plain": [
       "<Figure size 2160x1080 with 30 Axes>"
      ]
     },
     "metadata": {
      "needs_background": "light"
     },
     "output_type": "display_data"
    }
   ],
   "source": [
    "plot_figures(X_10_samples_2, X_10_noise)"
   ]
  },
  {
   "cell_type": "code",
   "execution_count": null,
   "metadata": {},
   "outputs": [],
   "source": []
  }
 ],
 "metadata": {
  "kernelspec": {
   "display_name": "Python 3",
   "language": "python",
   "name": "python3"
  },
  "language_info": {
   "codemirror_mode": {
    "name": "ipython",
    "version": 3
   },
   "file_extension": ".py",
   "mimetype": "text/x-python",
   "name": "python",
   "nbconvert_exporter": "python",
   "pygments_lexer": "ipython3",
   "version": "3.6.6"
  }
 },
 "nbformat": 4,
 "nbformat_minor": 2
}
