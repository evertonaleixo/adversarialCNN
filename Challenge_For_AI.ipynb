{
 "cells": [
  {
   "cell_type": "code",
   "execution_count": 1,
   "metadata": {},
   "outputs": [
    {
     "name": "stderr",
     "output_type": "stream",
     "text": [
      "Using TensorFlow backend.\n"
     ]
    }
   ],
   "source": [
    "import numpy as np\n",
    "from keras import backend as K\n",
    "from keras import losses\n",
    "import tensorflow as tf\n",
    "\n",
    "max_noise = 0.25\n",
    "step_size = 1.0/255.0"
   ]
  },
  {
   "cell_type": "code",
   "execution_count": 2,
   "metadata": {},
   "outputs": [],
   "source": [
    "x = np.array([2, -1, 3, -2, 2, 2, 1, -4, 5, 1])\n",
    "w = np.array([-1, -1, 1, -1, 1, -1, 1, 1, -1, 1])"
   ]
  },
  {
   "cell_type": "markdown",
   "metadata": {},
   "source": [
    "## Toy Example showing the phenomenal of fool a binary logistic  regression\n",
    "\n",
    "'p' is the probability of be class 1.\n",
    "If p > 0.5 it belongs to the class 1 otherwise not."
   ]
  },
  {
   "cell_type": "code",
   "execution_count": 3,
   "metadata": {},
   "outputs": [
    {
     "name": "stdout",
     "output_type": "stream",
     "text": [
      "0.04742587317756679\n"
     ]
    }
   ],
   "source": [
    "p = 1/(1+np.power(np.e, -np.dot(x, w)))\n",
    "print(p)"
   ]
  },
  {
   "cell_type": "markdown",
   "metadata": {},
   "source": [
    "#### Let's try to foll the classifier\n",
    "\n",
    "Doing the dot product again we see that suddenly the score becomes 2. This is not surprising: There are 10 dimensions and we’ve tweaked the input by 0.5 in every dimension in such a way that we gain 0.5 in each one, adding up to a total of 5 additional score, rising it from -3 to 2. Now when we look at probability of class 1 we get 1/(1+e^(-2)) = 0.88. That is, we tweaked the original x by a small amount and we improved the class 1 probability from 5% to 88%!"
   ]
  },
  {
   "cell_type": "code",
   "execution_count": 4,
   "metadata": {},
   "outputs": [],
   "source": [
    "# xad = x + 0.5w gives:\n",
    "xad = [1.5, -1.5, 3.5, -2.5, 2.5, 1.5, 1.5, -3.5, 4.5, 1.5]\n",
    "# xad = [1.1, -1.1, 3.1, -2.1, 2.1, 1.1, 1.1, -3.1, 4.1, 1.1]"
   ]
  },
  {
   "cell_type": "code",
   "execution_count": 5,
   "metadata": {},
   "outputs": [
    {
     "name": "stdout",
     "output_type": "stream",
     "text": [
      "0.8807970779778823\n"
     ]
    }
   ],
   "source": [
    "p = 1/(1+np.power(np.e, -np.dot(xad, w)))\n",
    "print(p)"
   ]
  },
  {
   "cell_type": "markdown",
   "metadata": {},
   "source": [
    "## Reproducing the  “Deep MNIST for Experts” tutorial"
   ]
  },
  {
   "cell_type": "code",
   "execution_count": 6,
   "metadata": {},
   "outputs": [],
   "source": [
    "%matplotlib inline\n",
    "import matplotlib.pyplot as plt\n",
    "from matplotlib.pyplot import figure\n"
   ]
  },
  {
   "cell_type": "code",
   "execution_count": 7,
   "metadata": {},
   "outputs": [],
   "source": [
    "def plot_figures(X_10_samples_2, X_10_noise):\n",
    "    figure(num=None, figsize=(16, 12), dpi=80, facecolor='w', edgecolor='k')\n",
    "    fig = plt.figure(figsize=(30,15))\n",
    "\n",
    "    idx_img = 0;\n",
    "    for i in range(1, 30, 3):\n",
    "        ax1 = fig.add_subplot(10, 3, i)\n",
    "        ax1.imshow(X_10_samples_2[idx_img])\n",
    "        ax2 = fig.add_subplot(10, 3, i+1)\n",
    "        ax2.imshow(X_10_noise[idx_img])\n",
    "        ax3 = fig.add_subplot(10, 3, i+2)\n",
    "        ax3.imshow( (X_10_samples_2[idx_img] + X_10_noise[idx_img]) )\n",
    "\n",
    "        idx_img = idx_img + 1"
   ]
  },
  {
   "cell_type": "code",
   "execution_count": 8,
   "metadata": {},
   "outputs": [],
   "source": [
    "mnist = tf.keras.datasets.mnist\n",
    "\n",
    "(x_train, y_train),(x_test, y_test) = mnist.load_data()\n",
    "x_train, x_test = x_train / 255.0, x_test / 255.0\n",
    "arange_ = np.arange(len(y_train))"
   ]
  },
  {
   "cell_type": "code",
   "execution_count": 9,
   "metadata": {},
   "outputs": [
    {
     "name": "stdout",
     "output_type": "stream",
     "text": [
      "Epoch 1/5\n",
      "60000/60000 [==============================] - 13s 213us/step - loss: 0.2195 - acc: 0.9344\n",
      "Epoch 2/5\n",
      "60000/60000 [==============================] - 13s 210us/step - loss: 0.0961 - acc: 0.9697\n",
      "Epoch 3/5\n",
      "60000/60000 [==============================] - 12s 205us/step - loss: 0.0694 - acc: 0.9782\n",
      "Epoch 4/5\n",
      "60000/60000 [==============================] - 13s 212us/step - loss: 0.0525 - acc: 0.9835\n",
      "Epoch 5/5\n",
      "60000/60000 [==============================] - 13s 211us/step - loss: 0.0428 - acc: 0.9863\n",
      "_________________________________________________________________\n",
      "Layer (type)                 Output Shape              Param #   \n",
      "=================================================================\n",
      "flatten (Flatten)            (None, 784)               0         \n",
      "_________________________________________________________________\n",
      "dense (Dense)                (None, 512)               401920    \n",
      "_________________________________________________________________\n",
      "dropout (Dropout)            (None, 512)               0         \n",
      "_________________________________________________________________\n",
      "dense_1 (Dense)              (None, 10)                5130      \n",
      "=================================================================\n",
      "Total params: 407,050\n",
      "Trainable params: 0\n",
      "Non-trainable params: 407,050\n",
      "_________________________________________________________________\n",
      "10000/10000 [==============================] - 1s 58us/step\n"
     ]
    },
    {
     "data": {
      "text/plain": [
       "[0.06482914703972638, 0.9801]"
      ]
     },
     "execution_count": 9,
     "metadata": {},
     "output_type": "execute_result"
    }
   ],
   "source": [
    "# with tf.device('/cpu:0'):\n",
    "model = tf.keras.models.Sequential([\n",
    "  tf.keras.layers.Flatten(),\n",
    "  tf.keras.layers.Dense(512, activation=tf.nn.relu),\n",
    "  tf.keras.layers.Dropout(0.2),\n",
    "  tf.keras.layers.Dense(10, activation=tf.nn.softmax)\n",
    "])\n",
    "\n",
    "model.compile(optimizer='adam',\n",
    "              loss='categorical_crossentropy',\n",
    "              metrics=['accuracy'])\n",
    "y_aux = np.zeros( (len(y_train), 10) )\n",
    "y_aux[arange_, y_train] = 1\n",
    "y_train = y_aux\n",
    "model.fit(x_train, y_train, epochs=5)\n",
    "\n",
    "\n",
    "for i in range(len(model.layers)):\n",
    "    layer = model.layers[i]\n",
    "    layer.trainable = False\n",
    "\n",
    "model.compile(optimizer='adam',\n",
    "          loss='categorical_crossentropy',\n",
    "          metrics=['accuracy'])\n",
    "\n",
    "model.summary()\n",
    "\n",
    "dist_loss = K.variable(0.)\n",
    "fake_class = K.variable(0)\n",
    "K.set_session(tf.Session(graph=model.output.graph))\n",
    "init = K.tf.global_variables_initializer()\n",
    "K.get_session().run(init)\n",
    "\n",
    "arange_ = np.arange(len(y_test))\n",
    "y_aux = np.zeros( (len(y_test), 10) )\n",
    "y_aux[arange_, y_test] = 1\n",
    "y_test = y_aux\n",
    "\n",
    "model.evaluate(x_test, y_test)"
   ]
  },
  {
   "cell_type": "markdown",
   "metadata": {},
   "source": [
    "#### Selecting samples from the 2"
   ]
  },
  {
   "cell_type": "code",
   "execution_count": 59,
   "metadata": {
    "scrolled": true
   },
   "outputs": [
    {
     "name": "stdout",
     "output_type": "stream",
     "text": [
      "[5 0 4 ... 5 6 8]\n",
      "X_samples_2.shape (5958, 28, 28)\n",
      "Y_samples_2.shape (5958, 10)\n",
      "X_10_samples_2.shape (10, 28, 28)\n",
      "X_10_noise.shape (5958, 28, 28)\n",
      "Y_fakes.shape (5958, 10)\n"
     ]
    }
   ],
   "source": [
    "y_train_idx = np.argmax(y_train, axis=1)\n",
    "print(y_train_idx)\n",
    "X_samples_2 = np.copy(x_train[y_train_idx==2])\n",
    "X_samples_2_orig = np.copy(x_train[y_train_idx==2])\n",
    "X_10_noise = np.zeros((X_samples_2.shape[0], 28, 28))\n",
    "\n",
    "Y_samples_2 = y_train[np.argmax(y_train, axis=1)==2]\n",
    "Y_fakes = np.copy(Y_samples_2)\n",
    "Y_fakes[:, 2] = 0\n",
    "Y_fakes[:, 6] = 1\n",
    "\n",
    "print(\"X_samples_2.shape \"+ str(X_samples_2.shape))\n",
    "print(\"Y_samples_2.shape \"+str(Y_samples_2.shape))\n",
    "print(\"X_10_samples_2.shape \"+ str(X_10_samples_2.shape))\n",
    "print(\"X_10_noise.shape \"+str(X_10_noise.shape))\n",
    "print(\"Y_fakes.shape \"+str(Y_fakes.shape))"
   ]
  },
  {
   "cell_type": "code",
   "execution_count": 60,
   "metadata": {},
   "outputs": [
    {
     "data": {
      "text/plain": [
       "array([[0., 0., 0., ..., 0., 0., 0.],\n",
       "       [0., 0., 0., ..., 0., 0., 0.],\n",
       "       [0., 0., 0., ..., 0., 0., 0.],\n",
       "       ...,\n",
       "       [0., 0., 0., ..., 0., 0., 0.],\n",
       "       [0., 0., 0., ..., 0., 0., 0.],\n",
       "       [0., 0., 0., ..., 0., 0., 0.]])"
      ]
     },
     "execution_count": 60,
     "metadata": {},
     "output_type": "execute_result"
    }
   ],
   "source": [
    "X_10_samples_2.shape\n",
    "Y_fakes"
   ]
  },
  {
   "cell_type": "markdown",
   "metadata": {},
   "source": [
    "#### In the fisrt way to try fool the Neural Network I will follow this steps.\n",
    "* Get image samples of 2 and target it as 6\n",
    "* Apply the feedforward in CNN\n",
    "* Get the gradient and apply it on image\n",
    "* Get the difference of new image and original image as noise"
   ]
  },
  {
   "cell_type": "code",
   "execution_count": 61,
   "metadata": {},
   "outputs": [
    {
     "name": "stdout",
     "output_type": "stream",
     "text": [
      "Tensor(\"dense_1/Softmax:0\", shape=(?, 10), dtype=float32)\n",
      "Tensor(\"gradients_4/flatten/Reshape_grad/Reshape:0\", shape=(?, 28, 28), dtype=float32)\n",
      "(?, 28, 28)\n",
      "(1, 10)\n"
     ]
    }
   ],
   "source": [
    "# Getting gradient\n",
    "input_img = model.input\n",
    "fake_class = K.zeros(shape=(1, 10))\n",
    "\n",
    "layer = model.layers[-1]\n",
    "print(layer.output)\n",
    "\n",
    "# distance Loss\n",
    "# np.random.seed(1)\n",
    "# for x in np.random.choice(model.layers[:-1], size = len(model.layers) - 1):\n",
    "#     x_var = x.output\n",
    "#     dist_loss = dist_loss + np.random.uniform(0,2) * K.sum(K.square(x_var)) / K.prod(K.cast(K.shape(x_var), 'float32'))\n",
    "    \n",
    "\n",
    "# adversarial loss\n",
    "adversarial_loss = losses.categorical_crossentropy(fake_class, layer.output)# - dist_loss\n",
    "\n",
    "grads = K.gradients(adversarial_loss, model.input)[0]\n",
    "print(grads)\n",
    "grads = grads / K.maximum(K.abs(K.max(grads)), K.abs(K.min(grads)))\n",
    "\n",
    "print(input_img.shape)\n",
    "print(fake_class.shape)\n",
    "grads_func = K.function(inputs=[input_img, fake_class], outputs=[grads])"
   ]
  },
  {
   "cell_type": "code",
   "execution_count": 62,
   "metadata": {},
   "outputs": [
    {
     "name": "stdout",
     "output_type": "stream",
     "text": [
      "0  - predicted -  2   --   0.99989665   --   1.5824378e-08\n",
      "1  - predicted -  2   --   0.9999126   --   2.5285747e-09\n",
      "2  - predicted -  2   --   0.99977773   --   4.1689043e-15\n",
      "3  - predicted -  2   --   0.9999665   --   1.878613e-12\n",
      "4  - predicted -  2   --   0.9999685   --   4.8622353e-11\n",
      "5  - predicted -  2   --   0.99999964   --   1.5149323e-11\n",
      "6  - predicted -  2   --   0.99999666   --   2.1371134e-06\n",
      "7  - predicted -  2   --   0.9975508   --   2.1078927e-10\n",
      "8  - predicted -  2   --   0.99093115   --   9.023509e-13\n",
      "9  - predicted -  2   --   0.99968195   --   9.90683e-12\n"
     ]
    }
   ],
   "source": [
    "for sample in range(10):\n",
    "    pred = model.predict(np.array([(X_samples_2[sample] + X_10_noise[sample])]))\n",
    "    predicted = np.argmax(pred)\n",
    "    print(sample, ' - predicted - ', predicted, '  --  ', pred[0, 2], '  --  ', pred[0, 6])\n"
   ]
  },
  {
   "cell_type": "code",
   "execution_count": 63,
   "metadata": {
    "scrolled": true
   },
   "outputs": [
    {
     "name": "stdout",
     "output_type": "stream",
     "text": [
      "img 2730  Confiance: 0.29642832\n",
      "img 3900  Confiance: 0.8952955\n",
      "img 4229  Confiance: 0.423624\n",
      "img 4794  Confiance: 0.5179324\n",
      "img 4197  Confiance: 0.40298447\n",
      "img 4453  Confiance: 0.35123715\n",
      "img 4195  Confiance: 0.33537117\n",
      "img 5245  Confiance: 0.39483744\n"
     ]
    }
   ],
   "source": [
    "# fig = plt.figure(figsize=(30,15))\n",
    "unique_noise = X_10_noise[0]\n",
    "total_found = 0\n",
    "idx_found =[]\n",
    "\n",
    "for _ in range(50):\n",
    "    for sample_idx in range(X_samples_2.shape[0]):\n",
    "        sample = np.reshape(X_samples_2_orig[sample_idx], (1,28,28))\n",
    "        predicted = model.predict(np.array(sample))\n",
    "        predicted_idx = np.argmax(predicted)\n",
    "\n",
    "        if predicted_idx != 2 or sample_idx in idx_found:\n",
    "            continue\n",
    "        if total_found >= 10:\n",
    "            break\n",
    "\n",
    "        for i in range(10):\n",
    "            fuzzy_img = (X_samples_2[sample_idx] + unique_noise)\n",
    "            fuzzy_img = np.clip(fuzzy_img, 0, 1)\n",
    "            fuzzy_img = np.reshape(fuzzy_img, (1, 28, 28))\n",
    "\n",
    "            predicted = model.predict(fuzzy_img)[0]\n",
    "            predicted_idx = np.argmax(predicted)\n",
    "            if predicted_idx == 6:\n",
    "                idx_found.append(sample_idx)\n",
    "                X_10_noise[total_found] = unique_noise\n",
    "                X_10_samples_2[total_found] = X_samples_2_orig[sample_idx]\n",
    "                total_found = total_found + 1\n",
    "                print(\"img \"+ str(sample_idx) + \"  Confiance: \" + str(predicted[6]) )\n",
    "                if total_found < 10:\n",
    "                    unique_noise = X_10_noise[sample_idx]\n",
    "                break\n",
    "\n",
    "            #Update noise\n",
    "            Y_fakes_hot_ones = np.zeros((1,10), dtype='int8')\n",
    "            Y_fakes_hot_ones[0, 6] = 1\n",
    "            grads = grads_func([fuzzy_img, Y_fakes_hot_ones])\n",
    "            grads = np.array(grads[0][0])\n",
    "            unique_noise = np.clip((unique_noise + (np.sign(grads)*step_size)), -max_noise, max_noise)\n",
    "        \n",
    "#         break\n",
    "#     break\n",
    "# print(sample, ' - predicted - ', predicted_idx, '  --  ', predicted[0, 2], '  --  ', predicted[0, 6], '  --  ', predicted[0, predicted_idx])\n",
    "# print('-----------------------------------------------------------------------------------------------\\n')"
   ]
  },
  {
   "cell_type": "code",
   "execution_count": 76,
   "metadata": {},
   "outputs": [
    {
     "name": "stdout",
     "output_type": "stream",
     "text": [
      "Images used: [2730, 3900, 4229, 4794, 4197, 4453, 4195, 5245]\n",
      "\n",
      "Predicting original images\n",
      "[2, 2, 2, 2, 2, 2, 2, 2, 2, 2]\n",
      "\n",
      "Predicting images with pertubation\n",
      "[2, 2, 2, 6, 2, 2, 2, 2, 2, 2]\n"
     ]
    },
    {
     "data": {
      "text/plain": [
       "<Figure size 1280x960 with 0 Axes>"
      ]
     },
     "metadata": {},
     "output_type": "display_data"
    },
    {
     "data": {
      "image/png": "[encoded data removed]",
      "text/plain": [
       "<Figure size 2160x1080 with 30 Axes>"
      ]
     },
     "metadata": {
      "needs_background": "light"
     },
     "output_type": "display_data"
    }
   ],
   "source": [
    "print(\"Images used: \" + str(idx_found))\n",
    "print(\"\\nPredicting original images\")\n",
    "pred = [np.argmax(model.predict((X_10_samples_2))[i]) for i in range(X_10_samples_2.shape[0])]\n",
    "print(pred)\n",
    "\n",
    "print(\"\\nPredicting images with pertubation\")\n",
    "pred = [np.argmax(model.predict((X_10_samples_2 + X_10_noise[:10]))[i]) for i in range(X_10_samples_2.shape[0])]\n",
    "print(pred)\n",
    "\n",
    "\n",
    "plot_figures(X_10_samples_2, X_10_noise)"
   ]
  },
  {
   "cell_type": "markdown",
   "metadata": {},
   "source": [
    "### Trying AG approach"
   ]
  },
  {
   "cell_type": "code",
   "execution_count": null,
   "metadata": {},
   "outputs": [],
   "source": [
    "def create_population(n):\n",
    "    pop = []\n",
    "    for i in range(n):\n",
    "        individual = np.zeros(28*28) # np.array([np.random.normal()/5 for _ in range(28*28)])\n",
    "        individual = np.reshape(individual, (28,28))\n",
    "        for i in range(28):\n",
    "            for j in range(28):\n",
    "                if (i<4 or i>23) or (j<4 or j>23):\n",
    "                    individual[i,j] = ((np.random.randint(256)/255.0)/10.0)\n",
    "                    if np.random.rand()>0.5:\n",
    "                        individual[i,j] = -individual[i,j]\n",
    "        individual = np.reshape(individual, (28*28))\n",
    "        pop.append(individual)\n",
    "        \n",
    "    return np.array(pop)"
   ]
  },
  {
   "cell_type": "code",
   "execution_count": null,
   "metadata": {},
   "outputs": [],
   "source": [
    "pred = model.predict((X_10_noise))\n",
    "print(X_10_noise.shape)\n",
    "for i in range(10):\n",
    "    print( np.argmax( pred[i]) )"
   ]
  },
  {
   "cell_type": "code",
   "execution_count": null,
   "metadata": {},
   "outputs": [],
   "source": [
    "def evaluate_population(pop):\n",
    "    ranking = []\n",
    "    for individual in pop:\n",
    "        X_10_noise = np.reshape(individual, (28, 28))\n",
    "        new_element = (X_10_samples_2 + X_10_noise)\n",
    "        individual = np.maximum(individual, 0)\n",
    "        individual = np.minimum(individual, 1)\n",
    "\n",
    "        pred = model.predict(new_element)\n",
    "        value = np.sum(pred, axis=0)[6]\n",
    "        ranking.append(value)\n",
    "        \n",
    "    return ranking"
   ]
  },
  {
   "cell_type": "code",
   "execution_count": null,
   "metadata": {},
   "outputs": [],
   "source": [
    "def mutation(individual, probability):\n",
    "    individual = np.reshape(individual, (28,28))\n",
    "    for i in range(28):\n",
    "        for j in range(28):\n",
    "            if (i<4 or i>23) or (j<4 or j>23):\n",
    "                if np.random.rand() < probability:\n",
    "                    individual[i, j] = individual[i, j] + ((np.random.randint(256)/255.0)/10.0) # np.random.normal()/10\n",
    "\n",
    "    individual = np.reshape(individual, (28*28))\n",
    "    individual = np.maximum(individual, 0)\n",
    "    individual = np.minimum(individual, 1)\n",
    "    return np.array(individual)\n",
    "\n",
    "def crossover(ind1 , ind2):\n",
    "    position = np.random.randint(len(ind1))\n",
    "    new_individual1 = np.concatenate((ind1[:position], ind2[position:]))\n",
    "    new_individual2 = np.concatenate((ind2[:position], ind1[position:]))\n",
    "    return np.array(new_individual1), np.array(new_individual2)"
   ]
  },
  {
   "cell_type": "code",
   "execution_count": null,
   "metadata": {
    "scrolled": true
   },
   "outputs": [],
   "source": [
    "num_epoch = 10000\n",
    "pop_size = 1000\n",
    "best_inds = 100\n",
    "\n",
    "pop = create_population(pop_size)\n",
    "best_val = []\n",
    "best_number_of_six = []\n",
    "\n",
    "for epoch in range(num_epoch):\n",
    "    ranking = np.array(evaluate_population(pop))\n",
    "    ordered_idx = ranking.argsort()\n",
    "    pop_ordered = pop[ordered_idx]\n",
    "    top_inds = np.array(pop_ordered[-best_inds:])\n",
    "    other_ind = np.array(pop[ordered_idx][:-best_inds])\n",
    "    best_val.append(ranking[ordered_idx][-1])\n",
    "    \n",
    "    new_pop = []\n",
    "    for _ in range(int(pop_size/4)):\n",
    "        ind1 = top_inds[np.random.randint(len(top_inds))]\n",
    "        ind2 = top_inds[np.random.randint(len(top_inds))]\n",
    "        new_ind1, new_ind2 = crossover(ind1, ind2)\n",
    "        new_pop.append(new_ind1)\n",
    "        new_pop.append(new_ind2)\n",
    "    \n",
    "    pop_with_mutation = []\n",
    "    for i in range(len(new_pop)):\n",
    "        pop_with_mutation.append(mutation(new_pop[i], probability=0.05))\n",
    "\n",
    "    pop_with_mutation = np.concatenate((create_population(pop_size - best_inds - len(pop_with_mutation)), pop_with_mutation))\n",
    "    pop = np.concatenate((top_inds, pop_with_mutation))\n",
    "    if (epoch % 50)==0:\n",
    "        for top in top_inds:\n",
    "            top_noise = np.reshape(top, (28, 28))\n",
    "            new_element = (X_10_samples_2 + top_noise)\n",
    "            new_element = np.maximum(new_element, 0)\n",
    "            new_element = np.minimum(new_element, 1)\n",
    "\n",
    "            pred = model.predict(new_element)\n",
    "            pred = np.array([np.argmax(pred[i]) for i in range(10)])\n",
    "            value = np.sum(pred==6)\n",
    "            best_number_of_six.append(value)\n",
    "        print(epoch, ' - best value: ', best_val[len(best_val) - 1])\n",
    "        print(best_number_of_six)\n",
    "        print()\n",
    "        \n",
    "    if np.max(np.array(best_number_of_six)) == 10:\n",
    "        break\n",
    "    \n",
    "\n",
    "ranking = np.array(evaluate_population(pop))\n",
    "ordered_idx = ranking.argsort()\n",
    "top20 = np.array(pop[ordered_idx][-5:])\n",
    "\n",
    "print(top20)\n",
    "print(ranking)\n",
    "print(ranking[ordered_idx][-5])\n",
    "print(best_val)"
   ]
  },
  {
   "cell_type": "code",
   "execution_count": null,
   "metadata": {},
   "outputs": [],
   "source": [
    "noise = top20[1]\n",
    "X_10_noise = np.zeros((10, 28, 28))\n",
    "for i in range(10):\n",
    "    X_10_noise[i] = np.reshape(noise, (1, 28,28))\n",
    "    \n",
    "new_element = (X_10_samples_2 + np.reshape(noise, (1, 28,28)))\n",
    "pred = model.predict(new_element)\n",
    "pred = np.array([np.argmax(pred[i]) for i in range(10)])\n",
    "\n",
    "\n",
    "print(pred)\n",
    "plot_figures(X_10_samples_2, X_10_noise)"
   ]
  },
  {
   "cell_type": "code",
   "execution_count": null,
   "metadata": {},
   "outputs": [],
   "source": [
    "X_10_noise = np.zeros((10, 28, 28))\n",
    "for i in range(10):\n",
    "    X_10_noise[i] = np.reshape(top20[0], (28,28))\n",
    "\n",
    "new_element = (X_10_samples_2 + np.reshape(top20[0], (28,28)))\n",
    "pred = model.predict(new_element)\n",
    "pred = np.array([np.argmax(pred[i]) for i in range(10)])\n",
    "\n",
    "\n",
    "print(pred)\n",
    "plt.hist(X_10_samples_2[0], label='X_10_samples')\n",
    "# plt.hist(X_10_noise[0], label='Noise')\n",
    "plot_figures(X_10_samples_2, X_10_noise)"
   ]
  },
  {
   "cell_type": "markdown",
   "metadata": {},
   "source": [
    "## GAN GENARATOR"
   ]
  },
  {
   "cell_type": "code",
   "execution_count": null,
   "metadata": {},
   "outputs": [],
   "source": [
    "model_gan = tf.keras.models.Sequential([\n",
    "  tf.keras.layers.Flatten(),\n",
    "  tf.keras.layers.Dense(8, activation=tf.nn.sigmoid),\n",
    "  tf.keras.layers.Dense(16, activation=tf.nn.relu),\n",
    "  tf.keras.layers.Dropout(0.2),\n",
    "  tf.keras.layers.Dense(64, activation=tf.nn.relu),\n",
    "  tf.keras.layers.Dense(128, activation=tf.nn.sigmoid),\n",
    "  tf.keras.layers.Dense(256, activation=tf.nn.relu),\n",
    "  tf.keras.layers.Dropout(0.2),\n",
    "  tf.keras.layers.Dense(512, activation=tf.nn.relu),\n",
    "  tf.keras.layers.Dense(512, activation=tf.nn.sigmoid),\n",
    "  tf.keras.layers.Dense(512, activation=tf.nn.sigmoid),\n",
    "  tf.keras.layers.Dense(512, activation=tf.nn.relu),\n",
    "  tf.keras.layers.Dropout(0.2),\n",
    "  tf.keras.layers.Dense(28*28, activation=tf.nn.sigmoid),\n",
    "  tf.keras.layers.Dense(28*28, activation=tf.keras.activations.relu(alpha=0.33, max_value=0.25, threshold=-0.25)),\n",
    "])\n",
    "\n",
    "compose_model = tf.keras.models.Sequential([\n",
    "    model_gan,\n",
    "    model\n",
    "])\n",
    "\n",
    "model_gan.compile(optimizer='adam',\n",
    "              loss='categorical_crossentropy',\n",
    "              metrics=['accuracy'])\n",
    "\n",
    "compose_model.compile(optimizer='adam',\n",
    "              loss='categorical_crossentropy',\n",
    "              metrics=['accuracy'])\n",
    "\n",
    "compose_model.fit(X_samples_2, Y_fakes, epochs=80)"
   ]
  },
  {
   "cell_type": "code",
   "execution_count": null,
   "metadata": {},
   "outputs": [],
   "source": [
    "print( np.argmax(compose_model.predict(X_samples_2)[0]) )\n",
    "print( np.argmax(model.predict(X_samples_2)[0]) )\n",
    "\n",
    "noises = np.reshape(model_gan.predict(X_samples_2), (X_samples_2.shape[0], 28, 28)) - X_samples_2\n",
    "print(noises.shape)\n",
    "\n",
    "X_10_noise = noises\n",
    "\n",
    "# ---------- Elimining pertubation on center image ------------------\n",
    "# for e in range(X_samples_2.shape[0]):\n",
    "#     for i in range(28):\n",
    "#         for j in range(28):\n",
    "#             if i >2 and i<25 and j>2 and j<23:\n",
    "#                 X_10_noise[e, i, j] = 0\n",
    "#                 continue\n",
    "# ---------- Elimining pertubation on center image ------------------\n",
    "\n",
    "\n",
    "new_elements = (X_10_samples_2 + X_10_noise)\n",
    "\n",
    "pred = model.predict(new_elements)\n",
    "pred = np.array([np.argmax(pred[i]) for i in range(10)])\n",
    "\n",
    "\n",
    "print(pred)\n",
    "plot_figures(X_10_samples_2, X_10_noise)"
   ]
  },
  {
   "cell_type": "markdown",
   "metadata": {},
   "source": [
    "### Trying an Reinforcement Learning"
   ]
  },
  {
   "cell_type": "code",
   "execution_count": null,
   "metadata": {},
   "outputs": [],
   "source": [
    "prop_action_states = dict()\n",
    "\n",
    "def get_state(noise):\n",
    "    noise = np.copy(noise)\n",
    "    for i in range(len(noise)):\n",
    "        if noise[i] > .9:\n",
    "            noise[i] = .9\n",
    "        elif noise[i] > .8:\n",
    "            noise[i] = .8\n",
    "        elif noise[i] > .7:\n",
    "            noise[i] = .7\n",
    "        elif noise[i] > .6:\n",
    "            noise[i] = .6\n",
    "        elif noise[i] > .5:\n",
    "            noise[i] = .5\n",
    "        elif noise[i] > .4:\n",
    "            noise[i] = .4\n",
    "        elif noise[i] > .3:\n",
    "            noise[i] = .3\n",
    "        elif noise[i] > .2:\n",
    "            noise[i] = .2\n",
    "        elif noise[i] > .1:\n",
    "            noise[i] = .1\n",
    "        else:\n",
    "            noise[i] = .0\n",
    "    \n",
    "    return noise\n",
    "\n",
    "def Q_function(state, noise, action):\n",
    "    X_10_noise = np.reshape(individual, (28, 28))\n",
    "    pred = model.predict((X_10_samples_2 + X_10_noise))\n",
    "    value = np.sum(pred, axis=0)[6]\n",
    "    \n",
    "    return value\n"
   ]
  },
  {
   "cell_type": "code",
   "execution_count": null,
   "metadata": {},
   "outputs": [],
   "source": [
    "def get_best_action(state):\n",
    "    state_name = ''\n",
    "    for i in range(28*28):\n",
    "        state_name = state_name + str(state[i])\n",
    "    \n",
    "    if state_name not in prop_action_states:\n",
    "        prop_action = np.zeros(28*28)\n",
    "        prop_action = np.reshape(prop_action, (28,28))\n",
    "        prop_action[:4, :] = .5\n",
    "        prop_action[:-4, :] = .5\n",
    "        prop_action[:, :-4] = .5\n",
    "        prop_action[:, :4] = .5\n",
    "        prop_action = np.reshape(prop_action, (28*28))\n",
    "        prop_action_states[state_name] = prop_action\n",
    "    \n",
    "    prop_action = prop_action_states.get(state_name)\n",
    "    best_indices = np.where(prop_action == prop_action.max())[0]\n",
    "#     print(prop_action.max(), \"best_indices \", len(best_indices[0]))\n",
    "    return best_indices[np.random.randint(len(best_indices))]\n",
    "\n",
    "def update_prop_action_states(state, action, value):\n",
    "    state_name = ''\n",
    "    for i in range(28*28):\n",
    "        state_name = state_name + str(state[i])\n",
    "    \n",
    "    if state_name not in prop_action_states:\n",
    "        prop_action = np.zeros(28*28)\n",
    "        prop_action = np.reshape(prop_action, (28,28))\n",
    "        prop_action[:4, :] = .5\n",
    "        prop_action[:-4, :] = .5\n",
    "        prop_action[:, :-4] = .5\n",
    "        prop_action[:, :4] = .5\n",
    "        prop_action = np.reshape(prop_action, (28*28))\n",
    "        prop_action_states[state_name] = prop_action\n",
    "    \n",
    "    prop_action = prop_action_states.get(state_name)\n",
    "    prop_action[action] = prop_action[action] + value\n",
    "    prop_action_states[state_name] = prop_action"
   ]
  },
  {
   "cell_type": "code",
   "execution_count": null,
   "metadata": {
    "scrolled": true
   },
   "outputs": [],
   "source": [
    "max_actions = (28*28*10)\n",
    "num_train_times = 100\n",
    "best_val = 0\n",
    "\n",
    "for num_train_time in range(num_train_times):\n",
    "    initial_noise = np.zeros(28*28)\n",
    "    initial_state = get_state(initial_noise)\n",
    "    state = np.array(initial_state)\n",
    "    noise = np.array(initial_noise)\n",
    "    \n",
    "    print('num_train ', num_train_time, ' -- best val until now: ', best_val)\n",
    "    for action_time in range(max_actions):\n",
    "        top_noise = np.reshape(noise, (28, 28))\n",
    "        new_element = (X_10_samples_2 + top_noise)\n",
    "        pred = model.predict(new_element)\n",
    "        actual_val = np.sum(pred[:, 6])\n",
    "        \n",
    "        # Select an action (Explore or Exploit)\n",
    "        action = -1\n",
    "        if np.random.rand() < .2: # Explore\n",
    "            rand_i = np.random.randint(8)\n",
    "            rand_i = rand_i if rand_i < 5 else (19 + rand_i)\n",
    "            rand_j = np.random.randint(8)\n",
    "            rand_j = rand_j if rand_j < 5 else (19 + rand_j)\n",
    "            action = (rand_i*28) + rand_j\n",
    "        else: # Exploite\n",
    "            action = get_best_action(state)\n",
    "\n",
    "        # Apply Action\n",
    "        noise_added = np.random.randint(256)/255.0\n",
    "        if np.random.rand() > .5:\n",
    "            noise_added = -noise_added\n",
    "        noise[action] = noise[action] + noise_added\n",
    "        noise[action] = np.minimum((noise[action]), 1)\n",
    "        noise[action] = np.maximum((noise[action]), 0)\n",
    "        \n",
    "        # Getting Reward\n",
    "        top_noise = np.reshape(noise, (28, 28))\n",
    "        new_element = (X_10_samples_2 + top_noise)\n",
    "        pred = model.predict(new_element)\n",
    "        new_value = np.sum(pred[:, 6])\n",
    "        \n",
    "        if best_val < new_value:\n",
    "            best_val = new_value\n",
    "\n",
    "        if new_value > 9.5:\n",
    "            break\n",
    "        \n",
    "        if action_time%1000 == 0:\n",
    "            print('\\nnoise add: ', noise_added, ' in position ', action, '(', int(action/28), ', ', (action%28), ')')\n",
    "            print('\\naction_time ', action_time, ' -- best val: ', best_val,' -- actual_val: ', actual_val, '  -- new_val', new_value,'  ** diff values: ', (new_value - actual_val))\n",
    "#             print(noise)\n",
    "            \n",
    "        # Update Q_Function\n",
    "        update_prop_action_states(state, action, (0.02 if (new_value - actual_val) > 0 else -.02))\n",
    "        \n",
    "        # Generating new state\n",
    "        state = get_state(noise)"
   ]
  },
  {
   "cell_type": "code",
   "execution_count": null,
   "metadata": {},
   "outputs": [],
   "source": [
    "X_10_noise = np.zeros((10, 28, 28))\n",
    "for i in range(10):\n",
    "    X_10_noise[i] = np.reshape((top_noise), (1, 28,28))\n",
    "    \n",
    "new_element = (X_10_samples_2 + X_10_noise)\n",
    "pred = model.predict(new_element)\n",
    "pred = np.array([np.argmax(pred[i]) for i in range(10)])\n",
    "\n",
    "\n",
    "print(pred)\n",
    "plot_figures(X_10_samples_2, X_10_noise)"
   ]
  },
  {
   "cell_type": "code",
   "execution_count": null,
   "metadata": {},
   "outputs": [],
   "source": [
    ".0816-(.0816*.15)\n",
    ".064*.93\n",
    "1461/365"
   ]
  }
 ],
 "metadata": {
  "kernelspec": {
   "display_name": "Python 3",
   "language": "python",
   "name": "python3"
  },
  "language_info": {
   "codemirror_mode": {
    "name": "ipython",
    "version": 3
   },
   "file_extension": ".py",
   "mimetype": "text/x-python",
   "name": "python",
   "nbconvert_exporter": "python",
   "pygments_lexer": "ipython3",
   "version": "3.6.6"
  }
 },
 "nbformat": 4,
 "nbformat_minor": 2
}
